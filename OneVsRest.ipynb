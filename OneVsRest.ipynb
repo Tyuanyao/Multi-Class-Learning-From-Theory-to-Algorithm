{
 "cells": [
  {
   "cell_type": "markdown",
   "metadata": {},
   "source": [
    "##  原始数据格式数据使用numpy.loadtxt读取"
   ]
  },
  {
   "cell_type": "code",
   "execution_count": 175,
   "metadata": {
    "collapsed": false
   },
   "outputs": [],
   "source": [
    "from numpy import loadtxt\n",
    "tmp = loadtxt('../data/fm_train_real.dat').T"
   ]
  },
  {
   "cell_type": "markdown",
   "metadata": {},
   "source": [
    "## libsvm格式数据使用svmutil.svm_read_problem读取，这个最难用了"
   ]
  },
  {
   "cell_type": "code",
   "execution_count": 395,
   "metadata": {
    "collapsed": false
   },
   "outputs": [],
   "source": [
    "import sys\n",
    "sys.path.append('/home/bd-dev/lijian/201801_ICML/script/libsvm/libsvm-3.22/python')\n",
    "from svmutil import *\n",
    "from svm import *\n",
    "test = svm_read_problem('/home/bd-dev/lijian/201801_ICML/tmp/iris.scale')"
   ]
  },
  {
   "cell_type": "markdown",
   "metadata": {},
   "source": [
    "##  libsvm格式数据使用sklearn带的方法读取，这个好用"
   ]
  },
  {
   "cell_type": "code",
   "execution_count": 394,
   "metadata": {
    "collapsed": false
   },
   "outputs": [],
   "source": [
    "from sklearn.externals.joblib import Memory\n",
    "from sklearn.datasets import load_svmlight_file\n",
    "mem = Memory(\"./mycache\")\n",
    "\n",
    "@mem.cache\n",
    "def get_data():\n",
    "    data = load_svmlight_file(\"/home/bd-dev/lijian/201801_ICML/tmp/iris.scale\")\n",
    "    return data[0], data[1]\n",
    "\n",
    "X, y = get_data()\n",
    "X_train, X_test, y_train, y_test = train_test_split(X, y, test_size=0.2)"
   ]
  },
  {
   "cell_type": "markdown",
   "metadata": {},
   "source": [
    "## libsvm格式数据使用shogun带的方法读取，这个一般 "
   ]
  },
  {
   "cell_type": "code",
   "execution_count": 389,
   "metadata": {
    "collapsed": false
   },
   "outputs": [
    {
     "name": "stdout",
     "output_type": "stream",
     "text": [
      "<type 'shogun.SparseRealFeatures'>\n",
      "<type 'numpy.ndarray'>\n"
     ]
    }
   ],
   "source": [
    "from tempfile import NamedTemporaryFile\n",
    "from shogun import SparseRealFeatures\n",
    "from shogun import LibSVMFile\n",
    "fname = '/home/bd-dev/lijian/201801_ICML/tmp/iris.scale'\n",
    "f=SparseRealFeatures()\n",
    "lab=f.load_with_labels(LibSVMFile(fname))\n",
    "tmp_file = NamedTemporaryFile(suffix='svmlight')\n",
    "f.save_with_labels(LibSVMFile(tmp_file.name, 'w'), lab)\n",
    "f.d\n",
    "print type(f)\n",
    "print type(lab)"
   ]
  },
  {
   "cell_type": "markdown",
   "metadata": {},
   "source": [
    "## .mat数据格式使用scipy.io.load读取"
   ]
  },
  {
   "cell_type": "code",
   "execution_count": 9,
   "metadata": {
    "collapsed": false
   },
   "outputs": [],
   "source": [
    "import scipy.io as sio\n",
    "data = sio.loadmat('/home/bd-dev/lijian/201801_ICML/tmp/RawData/plant/plant.phylpro.mat');\n",
    "data['phylpros'].shape\n",
    "X=data['phylpros']\n",
    "\n",
    "data=sio.loadmat('/home/bd-dev/lijian/201801_ICML/data/plant/label_plant.mat');\n",
    "y=data['y'];"
   ]
  },
  {
   "cell_type": "markdown",
   "metadata": {},
   "source": [
    "## 分片->生成核矩阵\n",
    "### 样本交叉验证时维度为(n,d)，生成核矩阵时维度为(d,n)。标签的数据格式是float64，且标签维度:(n,1)->(n,)"
   ]
  },
  {
   "cell_type": "code",
   "execution_count": 15,
   "metadata": {
    "collapsed": false
   },
   "outputs": [
    {
     "name": "stdout",
     "output_type": "stream",
     "text": [
      "(89, 752)\n",
      "(752, 1)\n"
     ]
    }
   ],
   "source": [
    "print X_train.T.shape\n",
    "print y_train.shape"
   ]
  },
  {
   "cell_type": "code",
   "execution_count": 11,
   "metadata": {
    "collapsed": false
   },
   "outputs": [],
   "source": [
    "from shogun import RealFeatures, MulticlassLabels\n",
    "from shogun import GaussianKernel\n",
    "from shogun import LibSVM, KernelMulticlassMachine, MulticlassOneVsRestStrategy\n",
    "from sklearn.model_selection import train_test_split\n",
    "X_train, X_test, y_train, y_test = train_test_split(X, y, test_size=0.2, random_state=42)\n",
    "\n",
    "width=2.1\n",
    "C=1\n",
    "epsilon=1e-5\n",
    "\n",
    "feats_train=RealFeatures(X_train.T)\n",
    "feats_test=RealFeatures(X_test.T)\n",
    "kernel=GaussianKernel(feats_train, feats_train, width)\n",
    "\n",
    "labels=MulticlassLabels(y_train.reshape(y_train.size,).astype('float64'))\n",
    "\n",
    "classifier = LibSVM()\n",
    "classifier.set_epsilon(epsilon)\n",
    "#print labels.get_labels()\n",
    "mc_classifier = KernelMulticlassMachine(MulticlassOneVsRestStrategy(),kernel,classifier,labels)\n",
    "mc_classifier.train()\n",
    "\n",
    "kernel.init(feats_train, feats_test)\n",
    "out = mc_classifier.apply().get_labels()"
   ]
  },
  {
   "cell_type": "code",
   "execution_count": 5,
   "metadata": {
    "collapsed": false
   },
   "outputs": [],
   "source": [
    "#!/usr/bin/env python\n",
    "\n",
    "import sys\n",
    "sys.path.append('/home/bd-dev/lijian/201801_ICML/script/libsvm/libsvm-3.22/python')\n",
    "from sklearn.externals.joblib import Memory\n",
    "from sklearn.datasets import load_svmlight_file\n",
    "mem = Memory(\"./mycache\")\n",
    "\n",
    "import scipy.io as sio\n",
    "import numpy as np\n",
    "from svmutil import *\n",
    "from svm import *\n",
    "from shogun import RealFeatures, MulticlassLabels\n",
    "from shogun import GaussianKernel\n",
    "from shogun import LibSVM, KernelMulticlassMachine, MulticlassOneVsRestStrategy\n",
    "from sklearn.model_selection import train_test_split\n",
    "\n",
    "# OneVsRest learning machine\n",
    "def classifier_multiclassmachine (fm_train_real,fm_test_real,label_train_multiclass,width=2.1,C=1,epsilon=1e-5):\n",
    "    feats_train=RealFeatures(fm_train_real)\n",
    "    feats_test=RealFeatures(fm_test_real)\n",
    "    kernel=GaussianKernel(feats_train, feats_train, width)\n",
    "\n",
    "    labels=MulticlassLabels(label_train_multiclass)\n",
    "\n",
    "    classifier = LibSVM()\n",
    "    classifier.set_epsilon(epsilon)\n",
    "    #print labels.get_labels()\n",
    "    mc_classifier = KernelMulticlassMachine(C, MulticlassOneVsRestStrategy(),kernel,classifier,labels)\n",
    "    mc_classifier.train()\n",
    "\n",
    "    kernel.init(feats_train, feats_test)\n",
    "    out = mc_classifier.apply().get_labels()\n",
    "\n",
    "    return out\n",
    "\n",
    "# load data from txt\n",
    "def loadFromTxt (file_path):\n",
    "    return np.loadtxt(file_path)\n",
    "\n",
    "# load data from libsvm data\n",
    "def loadFromLibsvm (file_path):\n",
    "    sys.path.append('/home/bd-dev/lijian/201801_ICML/script/libsvm/libsvm-3.22/python')\n",
    "    return svm_read_problem(file_path)\n",
    "\n",
    "# load data from .mat file\n",
    "def loadFromLibsvm (file_path):\n",
    "    return sio.loadmat(file_path)\n",
    "\n",
    "# phylpro type file        \n",
    "def FinalResult4phylpro(data_name):\n",
    "    data_path = '/home/bd-dev/lijian/201801_ICML/tmp/RawData/'+ data_name +'/'+ data_name +'.phylpro.mat'\n",
    "    label_path = '/home/bd-dev/lijian/201801_ICML/data/' + data_name + '/label_' + data_name + '.mat'\n",
    "    data = sio.loadmat(data_path)['phylpros']\n",
    "    label = sio.loadmat(label_path)['y']\n",
    "    label=label-label.min()\n",
    "\n",
    "    accuracy=[]\n",
    "    for i in range(times):\n",
    "        X_train, X_test, y_train, y_test = train_test_split(data, label, test_size=test_size)\n",
    "        label_pre = classifier_multiclassmachine(X_train.T, X_test.T, y_train.reshape(y_train.size,).astype('float64'), width, C, epsilon)\n",
    "        accuracy.append((y_test.reshape(y_test.size,).astype('float64')==label_pre).sum()/float(label_pre.size))\n",
    "        print 'finish round ' + str(i) +', accuracy: ' + str(accuracy[len(accuracy)-1])\n",
    "    print(\"\\n\".join(str(item) for item in accuracy))\n",
    "\n",
    "@mem.cache\n",
    "# svmlight type file        \n",
    "def FinalResult4svmlight(data_name):\n",
    "    print 'cj'\n",
    "    data_path = '/home/bd-dev/lijian/201801_ICML/tmp/'+ data_name +'.scale'\n",
    "    data = load_svmlight_file(data_path)\n",
    "    X, y = data[0], data[1].reshape(len(data[1]),1)\n",
    "    y=y-y.min()\n",
    "\n",
    "    accuracy=[]\n",
    "    for i in range(times):        \n",
    "        X_train, X_test, y_train, y_test = train_test_split(X, y, test_size=0.2)\n",
    "        label_pre = classifier_multiclassmachine(X_train.todense().T, X_test.todense().T, y_train.reshape(y_train.size,).astype('float64'), width, C, epsilon)\n",
    "        accuracy.append((y_test.reshape(y_test.size,).astype('float64')==label_pre).sum()/float(label_pre.size))\n",
    "        print 'finish round ' + str(i) +', accuracy: ' + str(accuracy[len(accuracy)-1])\n",
    "    print(\"\\n\".join(str(item) for item in accuracy))"
   ]
  },
  {
   "cell_type": "code",
   "execution_count": 6,
   "metadata": {
    "collapsed": false
   },
   "outputs": [
    {
     "name": "stdout",
     "output_type": "stream",
     "text": [
      "test\n"
     ]
    }
   ],
   "source": [
    "if __name__=='__main__':\n",
    "    times=30\n",
    "    C=100\n",
    "    test_size=0.2\n",
    "    width=8\n",
    "    epsilon=1e-5\n",
    "    FinalResult4svmlight('iris')    \n",
    "    print 'test'"
   ]
  },
  {
   "cell_type": "code",
   "execution_count": 2,
   "metadata": {
    "collapsed": false
   },
   "outputs": [],
   "source": [
    "#!/usr/bin/env python\n",
    "import sys\n",
    "sys.path.append('/home/bd-dev/lijian/201801_ICML/script/libsvm/libsvm-3.22/python')\n",
    "from sklearn.externals.joblib import Memory\n",
    "from sklearn.datasets import load_svmlight_file\n",
    "mem = Memory(\"./mycache\")\n",
    "\n",
    "import scipy.io as sio\n",
    "import numpy as np\n",
    "from svmutil import *\n",
    "from svm import *\n",
    "from shogun import LibSVM, KernelMulticlassMachine, MulticlassOneVsRestStrategy\n",
    "from shogun import CombinedFeatures, RealFeatures, MulticlassLabels\n",
    "from shogun import CombinedKernel, GaussianKernel, LinearKernel,PolyKernel\n",
    "from shogun import MKLMulticlass\n",
    "from shogun import GMNPSVM, CSVFile\n",
    "from sklearn.model_selection import train_test_split\n",
    "from shogun import MulticlassLibLinear\n",
    "from sklearn.model_selection import KFold\n",
    "\n",
    "# load data from txt\n",
    "def loadFromTxt (file_path):\n",
    "    return np.loadtxt(file_path)\n",
    "\n",
    "# load data from libsvm data\n",
    "def loadFromLibsvm (file_path):\n",
    "    sys.path.append('/home/bd-dev/lijian/201801_ICML/script/libsvm/libsvm-3.22/python')\n",
    "    return svm_read_problem(file_path)\n",
    "\n",
    "# load data from .mat file\n",
    "def loadFromLibsvm (file_path):\n",
    "    return sio.loadmat(file_path)\n",
    "\n",
    "# OneVsRest learning machine\n",
    "def classifier_multiclassmachine (fm_train_real,fm_test_real,label_train_multiclass,width, C, epsilon):\n",
    "    feats_train=RealFeatures(fm_train_real)\n",
    "    feats_test=RealFeatures(fm_test_real)\n",
    "    print '2 in'\n",
    "    kernel=GaussianKernel(feats_train, feats_train, width)\n",
    "    print '2 out'\n",
    "    \n",
    "    labels=MulticlassLabels(label_train_multiclass)\n",
    "\n",
    "    classifier = LibSVM()\n",
    "    classifier.set_epsilon(epsilon)\n",
    "    mc_classifier = KernelMulticlassMachine(MulticlassOneVsRestStrategy(),kernel,classifier,labels)\n",
    "    mc_classifier.train()\n",
    "\n",
    "    kernel.init(feats_train, feats_test)\n",
    "    out = mc_classifier.apply().get_labels()\n",
    "    return out\n",
    "\n",
    "# mc-mkl learning machine\n",
    "def mkl_multiclass (fm_train_real, fm_test_real, label_train_multiclass,\n",
    "    C, epsilon, num_threads, mkl_epsilon, mkl_norm):\n",
    "    kernel = CombinedKernel()\n",
    "    feats_train = CombinedFeatures()\n",
    "    feats_test = CombinedFeatures()\n",
    "\n",
    "    for i in range(-10,11):\n",
    "        subkfeats_train = RealFeatures(fm_train_real)\n",
    "        subkfeats_test = RealFeatures(fm_test_real)\n",
    "        subkernel = GaussianKernel(pow(2,i+1))\n",
    "        feats_train.append_feature_obj(subkfeats_train)\n",
    "        feats_test.append_feature_obj(subkfeats_test)\n",
    "        kernel.append_kernel(subkernel)\n",
    "\n",
    "    kernel.init(feats_train, feats_train)\n",
    "\n",
    "    labels = MulticlassLabels(label_train_multiclass)\n",
    "\n",
    "    mkl = MKLMulticlass(C, kernel, labels)\n",
    "\n",
    "    mkl.set_epsilon(epsilon)\n",
    "    mkl.parallel.set_num_threads(num_threads)\n",
    "    mkl.set_mkl_epsilon(mkl_epsilon)\n",
    "    mkl.set_mkl_norm(mkl_norm)\n",
    "\n",
    "    mkl.train()\n",
    "\n",
    "    kernel.init(feats_train, feats_test)\n",
    "\n",
    "    out =  mkl.apply().get_labels()\n",
    "    return out\n",
    "\n",
    "# multi-class classification based on C&S formulation\n",
    "def classifier_multiclassliblinear (fm_train_real,fm_test_real,label_train_multiclass,width, C, epsilon):\n",
    "    print C\n",
    "    feats_train=RealFeatures(fm_train_real)\n",
    "    feats_test=RealFeatures(fm_test_real)\n",
    "\n",
    "    labels=MulticlassLabels(label_train_multiclass)\n",
    "\n",
    "    classifier = MulticlassLibLinear(C,feats_train,labels)\n",
    "    classifier.train()\n",
    "\n",
    "    label_pred = classifier.apply(feats_test)\n",
    "    out = label_pred.get_labels()\n",
    "    return out\n",
    "\n",
    "# multi-class on gmnp\n",
    "def classifier_gmnpsvm (fm_train_real,fm_test_real,label_train_multiclass,width, C, epsilon):\n",
    "    feats_train=RealFeatures(fm_train_real)\n",
    "    feats_test=RealFeatures(fm_test_real)\n",
    "    kernel=GaussianKernel(feats_train, feats_train, width)\n",
    "\n",
    "    labels=MulticlassLabels(label_train_multiclass)\n",
    "\n",
    "    svm=GMNPSVM(C, kernel, labels)\n",
    "    svm.set_epsilon(epsilon)\n",
    "    svm.train(feats_train)\n",
    "\n",
    "    out=svm.apply(feats_test).get_labels()\n",
    "    return out\n",
    "\n",
    "def phylproFile(data_name, mode):\n",
    "    data_path = '/home/bd-dev/lijian/201801_ICML/tmp/RawData/'+ data_name +'/'+ data_name +'.phylpro.mat'\n",
    "    label_path = '/home/bd-dev/lijian/201801_ICML/data/' + data_name + '/label_' + data_name + '.mat'\n",
    "    data = sio.loadmat(data_path)['phylpros']\n",
    "    label = sio.loadmat(label_path)['y']\n",
    "    label=label-label.min()\n",
    "\n",
    "    accuracy=[]\n",
    "    for i in range(times):\n",
    "        X_train, X_test, y_train, y_test = train_test_split(data, label, test_size=test_size)\n",
    "        accuracy.append(train_test(mode, X_train.T, X_test.T, y_train.reshape(y_train.size,).astype('float64'), y_test.reshape(y_test.size,).astype('float64')))\n",
    "        print 'finish '+ data_name + ' in ' + mode + ', round ' + str(i) +', accuracy: ' + str(accuracy[len(accuracy)-1])\n",
    "    print 'mean accuracy of ' + data_name + ' in ' + mode + ' is ' + str(np.mean(accuracy))\n",
    "    return accuracy\n",
    "\n",
    "def svmlightFile(data_name, mode):\n",
    "    data_path = '/home/bd-dev/lijian/201801_ICML/tmp/'+ data_name +'.scale'\n",
    "    data = load_svmlight_file(data_path)\n",
    "    X, y = data[0], data[1].reshape(len(data[1]),1)\n",
    "    y=y-y.min()\n",
    "    if data_name=='glass' or data_name=='svmguide4':    \n",
    "        y = np.array([(x-1 if x>3 else x) for x in y])\n",
    "\n",
    "    accuracy=[]\n",
    "    for i in range(times):        \n",
    "        X_train, X_test, y_train, y_test = train_test_split(X, y, test_size=test_size)        \n",
    "        accuracy.append(train_test(mode, X_train.todense().T, X_test.todense().T, y_train.reshape(y_train.size,).astype('float64'), y_test.reshape(y_test.size,).astype('float64')))\n",
    "        print 'finish '+ data_name + ' in ' + mode + ', round ' + str(i) +', accuracy: ' + str(accuracy[len(accuracy)-1])\n",
    "    print 'mean accuracy of ' + data_name + ' in ' + mode + ' is ' + str(np.mean(accuracy))\n",
    "    return accuracy\n",
    "\n",
    "def train_test(mode, X_train, X_test, y_train, y_test):\n",
    "    if mode=='mcmkl':\n",
    "        label_pre = mkl_multiclass(X_train, X_test, y_train, C, epsilon, num_threads, mkl_epsilon, mkl_norm)\n",
    "    elif mode=='1vR':\n",
    "        label_pre = classifier_multiclassmachine(X_train, X_test, y_train, width, C, epsilon)\n",
    "    elif mode=='gmnp':\n",
    "        label_pre = classifier_gmnpsvm(X_train, X_test, y_train, width, C, epsilon)\n",
    "    elif mode=='cs':\n",
    "        label_pre = classifier_multiclassliblinear(X_train, X_test, y_train, width, C, epsilon)    \n",
    "    return  (y_test==label_pre).sum()/float(label_pre.size)\n",
    "\n",
    "def cv_para_svmlight(data_name, mode, folds, C):\n",
    "    data_path = '/home/bd-dev/lijian/201801_ICML/tmp/'+ data_name +'.scale'\n",
    "    data = load_svmlight_file(data_path)\n",
    "    X, y = data[0], data[1].reshape(len(data[1]),1)\n",
    "    y=y-y.min()\n",
    "    if data_name=='glass' or data_name=='svmguide4':    \n",
    "        y = np.array([(x-1 if x>3 else x) for x in y])\n",
    "\n",
    "    accuracy=[]\n",
    "    for train_index, test_index in KFold(n_splits=folds).split(X):        \n",
    "        X_train, X_test, y_train, y_test = X[train_index], X[test_index], y[train_index], y[test_index]        \n",
    "        accuracy.append(train_test(mode, X_train.todense().T, X_test.todense().T, y_train.reshape(y_train.size,).astype('float64'), y_test.reshape(y_test.size,).astype('float64')))\n",
    "        print 'finish '+ data_name + ' in ' + mode + ', round ' + str(i) +', accuracy: ' + str(accuracy[len(accuracy)-1])\n",
    "    print 'mean accuracy of ' + data_name + ' in ' + mode + ' is ' + str(np.mean(accuracy))\n",
    "    return np.mean(accuracy)\n",
    "\n",
    "def cv_para_phylpro(data_name, mode, folds, C):\n",
    "    data_path = '/home/bd-dev/lijian/201801_ICML/tmp/RawData/'+ data_name +'/'+ data_name +'.phylpro.mat'\n",
    "    label_path = '/home/bd-dev/lijian/201801_ICML/data/' + data_name + '/label_' + data_name + '.mat'\n",
    "    data = sio.loadmat(data_path)['phylpros']\n",
    "    label = sio.loadmat(label_path)['y']\n",
    "    label=label-label.min()\n",
    "\n",
    "    accuracy=[]\n",
    "    for train_index, test_index in KFold(n_splits=folds).split(X):        \n",
    "        X_train, X_test, y_train, y_test = X[train_index], X[test_index], y[train_index], y[test_index]        \n",
    "        accuracy.append(train_test(mode, X_train.T, X_test.T, y_train.reshape(y_train.size,).astype('float64'), y_test.reshape(y_test.size,).astype('float64')))\n",
    "        print 'finish '+ data_name + ' in ' + mode + ', round ' + str(i) +', accuracy: ' + str(accuracy[len(accuracy)-1])\n",
    "    print 'mean accuracy of ' + data_name + ' in ' + mode + ' is ' + str(np.mean(accuracy))\n",
    "    return np.mean(accuracy)\n",
    "\n",
    "def get_best_para(file_type, data_name, mode, para_list, folds):\n",
    "    best_para = 0\n",
    "    for para in para_list:\n",
    "        C = para_list\n",
    "        if file_type =='4':\n",
    "            accuracy = cv_para_phylpro(data_name, mode, folds, C)\n",
    "        elif file_type =='5':\n",
    "            accuracy = cv_para_svmlight()\n",
    "        if max_acc < accuracy:\n",
    "            max_acc = accuracy\n",
    "            best_para = C\n",
    "    return best_para"
   ]
  },
  {
   "cell_type": "code",
   "execution_count": null,
   "metadata": {
    "collapsed": false
   },
   "outputs": [],
   "source": [
    "if __name__=='__main__':\n",
    "    times=30\n",
    "    C=100 #[1, 10, 100, 1000]    \n",
    "    epsilon= 1e-3 #1e-5\n",
    "    mkl_epsilon=0.001\n",
    "    test_size=0.2\n",
    "    width=8\n",
    "    num_threads=8\n",
    "    mkl_norm=2\n",
    "    \n",
    "    sys.argv=['ttt', '5', 'sector', 'gmnp', '10']\n",
    "    if len(sys.argv) > 4:\n",
    "        C = int(sys.argv[4])\n",
    "    if len(sys.argv) > 5:\n",
    "        times=int(sys.argv[5])\n",
    "        bestC = 1\n",
    "        maxMean = 0\n",
    "        for i in [1, 10, 100, 1000]:\n",
    "            C=i\n",
    "            if sys.argv[1]=='4':\n",
    "                accuracy = phylproFile(sys.argv[2],sys.argv[3])\n",
    "            elif sys.argv[1]=='5':\n",
    "                accuracy = svmlightFile(sys.argv[2],sys.argv[3])   \n",
    "            if np.mean(accuracy) > maxMean:\n",
    "                bestC = C\n",
    "                maxMean = np.mean(accuracy)\n",
    "        print 'Best para C is ' + str(bestC)\n",
    "        C = bestC\n",
    "        times = 30\n",
    "                \n",
    "    if sys.argv[1]=='4':\n",
    "        accuracy = phylproFile(sys.argv[2],sys.argv[3])\n",
    "    elif sys.argv[1]=='5':\n",
    "        accuracy = svmlightFile(sys.argv[2],sys.argv[3])    \n",
    "    print(\"\\n\".join(str(item*100) for item in accuracy))\n",
    "    "
   ]
  },
  {
   "cell_type": "code",
   "execution_count": 5,
   "metadata": {
    "collapsed": false
   },
   "outputs": [],
   "source": [
    "#!/usr/bin/env python\n",
    "import sys\n",
    "sys.path.append('/home/bd-dev/lijian/201801_ICML/script/libsvm/libsvm-3.22/python')\n",
    "from sklearn.externals.joblib import Memory\n",
    "from sklearn.datasets import load_svmlight_file\n",
    "mem = Memory(\"./mycache\")\n",
    "\n",
    "import scipy.io as sio\n",
    "import numpy as np\n",
    "from svmutil import *\n",
    "from svm import *\n",
    "from shogun import LibSVM, KernelMulticlassMachine, MulticlassOneVsRestStrategy\n",
    "from shogun import CombinedFeatures, RealFeatures, MulticlassLabels\n",
    "from shogun import CombinedKernel, GaussianKernel, LinearKernel,PolyKernel\n",
    "from shogun import MKLMulticlass\n",
    "from shogun import GMNPSVM, CSVFile\n",
    "from sklearn.model_selection import train_test_split\n",
    "from shogun import MulticlassLibLinear\n",
    "from sklearn.model_selection import KFold\n",
    "\n",
    "times=30\n",
    "C=100 #[1, 10, 100, 1000]    \n",
    "epsilon=1e-5\n",
    "mkl_epsilon=0.001\n",
    "test_size=0.2\n",
    "width=8\n",
    "num_threads=8\n",
    "mkl_norm=2\n",
    "\n",
    "# load data from txt\n",
    "def loadFromTxt (file_path):\n",
    "    return np.loadtxt(file_path)\n",
    "\n",
    "# load data from libsvm data\n",
    "def loadFromLibsvm (file_path):\n",
    "    sys.path.append('/home/bd-dev/lijian/201801_ICML/script/libsvm/libsvm-3.22/python')\n",
    "    return svm_read_problem(file_path)\n",
    "\n",
    "# load data from .mat file\n",
    "def loadFromLibsvm (file_path):\n",
    "    return sio.loadmat(file_path)\n",
    "\n",
    "# OneVsRest learning machine\n",
    "def classifier_multiclassmachine (fm_train_real,fm_test_real,label_train_multiclass,width, C, epsilon):\n",
    "    feats_train=RealFeatures(fm_train_real)\n",
    "    feats_test=RealFeatures(fm_test_real)\n",
    "    print '2 in'\n",
    "    kernel=GaussianKernel(feats_train, feats_train, width)\n",
    "    print '2 out'\n",
    "    \n",
    "    labels=MulticlassLabels(label_train_multiclass)\n",
    "\n",
    "    classifier = LibSVM()\n",
    "    classifier.set_epsilon(epsilon)\n",
    "    mc_classifier = KernelMulticlassMachine(MulticlassOneVsRestStrategy(),kernel,classifier,labels)\n",
    "    mc_classifier.train()\n",
    "\n",
    "    kernel.init(feats_train, feats_test)\n",
    "    out = mc_classifier.apply().get_labels()\n",
    "    return out\n",
    "\n",
    "# mc-mkl learning machine\n",
    "def mkl_multiclass (fm_train_real, fm_test_real, label_train_multiclass,\n",
    "    C, epsilon, num_threads, mkl_epsilon, mkl_norm):\n",
    "    kernel = CombinedKernel()\n",
    "    feats_train = CombinedFeatures()\n",
    "    feats_test = CombinedFeatures()\n",
    "\n",
    "    for i in range(-10,11):\n",
    "        subkfeats_train = RealFeatures(fm_train_real)\n",
    "        subkfeats_test = RealFeatures(fm_test_real)\n",
    "        subkernel = GaussianKernel(pow(2,i+1))\n",
    "        feats_train.append_feature_obj(subkfeats_train)\n",
    "        feats_test.append_feature_obj(subkfeats_test)\n",
    "        kernel.append_kernel(subkernel)\n",
    "\n",
    "    kernel.init(feats_train, feats_train)\n",
    "\n",
    "    labels = MulticlassLabels(label_train_multiclass)\n",
    "\n",
    "    mkl = MKLMulticlass(C, kernel, labels)\n",
    "\n",
    "    mkl.set_epsilon(epsilon)\n",
    "    mkl.parallel.set_num_threads(num_threads)\n",
    "    mkl.set_mkl_epsilon(mkl_epsilon)\n",
    "    mkl.set_mkl_norm(mkl_norm)\n",
    "\n",
    "    mkl.train()\n",
    "\n",
    "    kernel.init(feats_train, feats_test)\n",
    "\n",
    "    out =  mkl.apply().get_labels()\n",
    "    return out\n",
    "\n",
    "# multi-class classification based on C&S formulation\n",
    "def classifier_multiclassliblinear (fm_train_real,fm_test_real,label_train_multiclass,width, C, epsilon):\n",
    "\tfeats_train=RealFeatures(fm_train_real)\n",
    "\tfeats_test=RealFeatures(fm_test_real)\n",
    "\n",
    "\tlabels=MulticlassLabels(label_train_multiclass)\n",
    "\n",
    "\tclassifier = MulticlassLibLinear(C,feats_train,labels)\n",
    "\tclassifier.train()\n",
    "\n",
    "\tlabel_pred = classifier.apply(feats_test)\n",
    "\tout = label_pred.get_labels()\n",
    "\treturn out\n",
    "\n",
    "# multi-class on gmnp\n",
    "def classifier_gmnpsvm (fm_train_real,fm_test_real,label_train_multiclass,width, C, epsilon):\n",
    "    feats_train=RealFeatures(fm_train_real)\n",
    "    feats_test=RealFeatures(fm_test_real)\n",
    "    kernel= GaussianKernel(feats_train, feats_train, width)\n",
    "\n",
    "    labels=MulticlassLabels(label_train_multiclass)\n",
    "\n",
    "    print type(C), type(kernel), type(labels)\n",
    "    svm=GMNPSVM(C, kernel, labels)\n",
    "    svm.set_epsilon(epsilon)\n",
    "    print 'start train'\n",
    "    svm.train(feats_train)\n",
    "    print 'finish train'\n",
    "\n",
    "    out=svm.apply(feats_test).get_labels()\n",
    "    return out\n",
    "\n",
    "def phylproFile(data_name, mode):\n",
    "    data_path = '/home/bd-dev/lijian/201801_ICML/tmp/RawData/'+ data_name +'/'+ data_name +'.phylpro.mat'\n",
    "    label_path = '/home/bd-dev/lijian/201801_ICML/data/' + data_name + '/label_' + data_name + '.mat'\n",
    "    data = sio.loadmat(data_path)['phylpros']\n",
    "    label = sio.loadmat(label_path)['y']\n",
    "    label=label-label.min()\n",
    "\n",
    "    accuracy=[]\n",
    "    for i in range(times):\n",
    "        X_train, X_test, y_train, y_test = train_test_split(data, label, test_size=test_size)\n",
    "        accuracy.append(train_test(mode, X_train.T, X_test.T, y_train.reshape(y_train.size,).astype('float64'), y_test.reshape(y_test.size,).astype('float64')))\n",
    "        print 'finish '+ data_name + ' in ' + mode + ', round ' + str(i) +', accuracy: ' + str(accuracy[len(accuracy)-1])\n",
    "    print 'mean accuracy of ' + data_name + ' in ' + mode + ' is ' + str(np.mean(accuracy))\n",
    "    return accuracy\n",
    "\n",
    "def svmlightFile(data_name, mode):\n",
    "    data_path = '/home/bd-dev/lijian/201801_ICML/tmp/'+ data_name +'.scale'\n",
    "    data = load_svmlight_file(data_path)\n",
    "    X, y = data[0], data[1].reshape(len(data[1]),1)\n",
    "    y=y-y.min()\n",
    "    if data_name=='glass' or data_name=='svmguide4':    \n",
    "        y = np.array([(x-1 if x>3 else x) for x in y])\n",
    "\n",
    "    accuracy=[]\n",
    "    for i in range(times):        \n",
    "        X_train, X_test, y_train, y_test = train_test_split(X, y, test_size=test_size)        \n",
    "        accuracy.append(train_test(mode, X_train.todense().T, X_test.todense().T, y_train.reshape(y_train.size,).astype('float64'), y_test.reshape(y_test.size,).astype('float64')))\n",
    "        print 'finish '+ data_name + ' in ' + mode + ', round ' + str(i) +', accuracy: ' + str(accuracy[len(accuracy)-1])\n",
    "    print 'mean accuracy of ' + data_name + ' in ' + mode + ' is ' + str(np.mean(accuracy))\n",
    "    return accuracy\n",
    "\n",
    "def train_test(mode, X_train, X_test, y_train, y_test, C=C):\n",
    "    print 'train_test C:' + str(C)\n",
    "    if mode=='mcmkl':\n",
    "        label_pre = mkl_multiclass(X_train, X_test, y_train, C, epsilon, num_threads, mkl_epsilon, mkl_norm)\n",
    "    elif mode=='1vR':\n",
    "        label_pre = classifier_multiclassmachine(X_train, X_test, y_train, width, C, epsilon)\n",
    "    elif mode=='gmnp':\n",
    "        label_pre = classifier_gmnpsvm(X_train, X_test, y_train, width, C, epsilon)\n",
    "    elif mode=='cs':\n",
    "        label_pre = classifier_multiclassliblinear(X_train, X_test, y_train, width, C, epsilon)    \n",
    "    return  (y_test==label_pre).sum()/float(label_pre.size)\n",
    "\n",
    "def cv_para_svmlight(C):\n",
    "    data_path = '/home/bd-dev/lijian/201801_ICML/tmp/'+ data_name +'.scale'\n",
    "    data = load_svmlight_file(data_path)\n",
    "    X, y = data[0], data[1].reshape(len(data[1]),1)\n",
    "    y=y-y.min()\n",
    "    if data_name=='glass' or data_name=='svmguide4':    \n",
    "        y = np.array([(x-1 if x>3 else x) for x in y])\n",
    "    if len(y) > 3000:\n",
    "        X = X[:3000]\n",
    "        y = y[:3000]\n",
    "\n",
    "    accuracy=[]\n",
    "    for train_index, test_index in KFold(n_splits=folds, shuffle=True).split(y):        \n",
    "        X_train, X_test, y_train, y_test = X[train_index], X[test_index], y[train_index], y[test_index]\n",
    "        print 'svmlight C:' + str(C)\n",
    "        accuracy.append(train_test(mode, X_train.todense().T, X_test.todense().T, y_train.reshape(y_train.size,).astype('float64'), y_test.reshape(y_test.size,).astype('float64'),C))\n",
    "    print 'mean accuracy of ' + data_name + ' in ' + mode + ' is ' + str(np.mean(accuracy))\n",
    "    return np.mean(accuracy)\n",
    "\n",
    "def cv_para_phylpro(C):\n",
    "    data_path = '/home/bd-dev/lijian/201801_ICML/tmp/RawData/'+ data_name +'/'+ data_name +'.phylpro.mat'\n",
    "    label_path = '/home/bd-dev/lijian/201801_ICML/data/' + data_name + '/label_' + data_name + '.mat'\n",
    "    data = sio.loadmat(data_path)['phylpros']\n",
    "    label = sio.loadmat(label_path)['y']\n",
    "    label=label-label.min()\n",
    "\n",
    "    accuracy=[]\n",
    "    for train_index, test_index in KFold(n_splits=folds, shuffle=True).split(X):        \n",
    "        X_train, X_test, y_train, y_test = X[train_index], X[test_index], y[train_index], y[test_index]        \n",
    "        accuracy.append(train_test(mode, X_train.T, X_test.T, y_train.reshape(y_train.size,).astype('float64'), y_test.reshape(y_test.size,).astype('float64'),C))\n",
    "    print 'mean accuracy of ' + data_name + ' in ' + mode + ' is ' + str(np.mean(accuracy))\n",
    "    return np.mean(accuracy)\n",
    "\n",
    "def get_best_para():\n",
    "    best_para = 0\n",
    "    max_acc = 0\n",
    "    for para in para_list:\n",
    "        C = para\n",
    "        if file_type =='4':\n",
    "            accuracy = cv_para_phylpro(C)\n",
    "        elif file_type =='5':\n",
    "            accuracy = cv_para_svmlight(C)\n",
    "        if max_acc < accuracy:\n",
    "            max_acc = accuracy\n",
    "            best_para = C\n",
    "    return best_para\n"
   ]
  },
  {
   "cell_type": "code",
   "execution_count": 23,
   "metadata": {
    "collapsed": false
   },
   "outputs": [],
   "source": [
    "data_path = '/home/bd-dev/lijian/201801_ICML/tmp/sector.scale'\n",
    "data = load_svmlight_file(data_path)\n",
    "X, y = data[0], data[1].reshape(len(data[1]),1)\n",
    "y=y-y.min()"
   ]
  },
  {
   "cell_type": "code",
   "execution_count": 8,
   "metadata": {
    "collapsed": false
   },
   "outputs": [
    {
     "data": {
      "text/plain": [
       "(3000, 55197)"
      ]
     },
     "execution_count": 8,
     "metadata": {},
     "output_type": "execute_result"
    }
   ],
   "source": [
    "X.shape"
   ]
  },
  {
   "cell_type": "code",
   "execution_count": 9,
   "metadata": {
    "collapsed": false
   },
   "outputs": [
    {
     "data": {
      "text/plain": [
       "(3000, 1)"
      ]
     },
     "execution_count": 9,
     "metadata": {},
     "output_type": "execute_result"
    }
   ],
   "source": [
    "y.shape"
   ]
  },
  {
   "cell_type": "code",
   "execution_count": 10,
   "metadata": {
    "collapsed": false
   },
   "outputs": [
    {
     "data": {
      "text/plain": [
       "array([   0.,    1.,    2.,    3.,    4.,    5.,    6.,    7.,    8.,\n",
       "          9.,   10.,   11.,   12.,   13.,   14.,   15.,   16.,   17.,\n",
       "         18.,   19.,   20.,   21.,   22.,   23.,   24.,   25.,   26.,\n",
       "         27.,   28.,   29.,   30.,   31.,   32.,   33.,   34.,   35.,\n",
       "         36.,   37.,   38.,   39.,   40.,   41.,   42.,   43.,   44.,\n",
       "         45.,   46.,   47.,   48.,   49.,   50.,   51.,   52.,   53.,\n",
       "         54.,   55.,   56.,   57.,   58.,   59.,   60.,   61.,   62.,\n",
       "         63.,   64.,   65.,   66.,   67.,   68.,   69.,   70.,   71.,\n",
       "         72.,   73.,   74.,   75.,   76.,   77.,   78.,   79.,   80.,\n",
       "         81.,   82.,   83.,   84.,   85.,   86.,   87.,   88.,   89.,\n",
       "         90.,   91.,   92.,   93.,   94.,   95.,   96.,   97.,   98.,\n",
       "        100.,  101.,  102.,  103.,  104.])"
      ]
     },
     "execution_count": 10,
     "metadata": {},
     "output_type": "execute_result"
    }
   ],
   "source": [
    "np.unique(y)"
   ]
  },
  {
   "cell_type": "code",
   "execution_count": 12,
   "metadata": {
    "collapsed": false
   },
   "outputs": [
    {
     "data": {
      "text/plain": [
       "104"
      ]
     },
     "execution_count": 12,
     "metadata": {},
     "output_type": "execute_result"
    }
   ],
   "source": [
    "len(np.unique(y))"
   ]
  },
  {
   "cell_type": "code",
   "execution_count": 27,
   "metadata": {
    "collapsed": false
   },
   "outputs": [],
   "source": [
    "kf = KFold(n_splits=int(1/(1-3000.0/len(y)))+1, shuffle=True).split(y)"
   ]
  },
  {
   "cell_type": "code",
   "execution_count": 34,
   "metadata": {
    "collapsed": false
   },
   "outputs": [],
   "source": [
    "a,b=kf"
   ]
  },
  {
   "cell_type": "code",
   "execution_count": 43,
   "metadata": {
    "collapsed": false
   },
   "outputs": [
    {
     "data": {
      "text/plain": [
       "105"
      ]
     },
     "execution_count": 43,
     "metadata": {},
     "output_type": "execute_result"
    }
   ],
   "source": [
    "len(np.unique(y[a[1]]))"
   ]
  },
  {
   "cell_type": "code",
   "execution_count": 245,
   "metadata": {
    "collapsed": false
   },
   "outputs": [
    {
     "name": "stdout",
     "output_type": "stream",
     "text": [
      "<class 'scipy.sparse.csr.csr_matrix'>\n"
     ]
    }
   ],
   "source": [
    "data_path = '/home/bd-dev/lijian/201801_ICML/tmp/sector.scale'\n",
    "data = load_svmlight_file(data_path)\n",
    "X, y = data[0], data[1].reshape(len(data[1]),1)\n",
    "y=y-y.min()\n",
    "X=X[(y<30).reshape(6412,),:]\n",
    "y=y[(y<30).reshape(6412,),:]\n",
    "print type(X)"
   ]
  },
  {
   "cell_type": "code",
   "execution_count": 231,
   "metadata": {
    "collapsed": false
   },
   "outputs": [],
   "source": [
    "import numpy as np\n",
    "from sklearn.decomposition import PCA\n",
    "pca = PCA(n_components=20)\n",
    "new_data=pca.fit_transform(X.toarray())"
   ]
  },
  {
   "cell_type": "code",
   "execution_count": 226,
   "metadata": {
    "collapsed": false
   },
   "outputs": [
    {
     "name": "stdout",
     "output_type": "stream",
     "text": [
      "[ 0.02343408  0.01119118  0.01087832  0.00980029  0.00820345  0.00657229\n",
      "  0.00600863  0.00507656  0.00480313  0.00433513  0.00428639  0.00412836\n",
      "  0.00405653  0.00386227  0.00363855  0.0035958   0.00344988  0.00344606\n",
      "  0.00323247  0.00316549]\n",
      "<type 'numpy.ndarray'>\n"
     ]
    }
   ],
   "source": [
    "print(pca.explained_variance_ratio_)  \n",
    "print(type(pca.singular_values_))"
   ]
  },
  {
   "cell_type": "code",
   "execution_count": 247,
   "metadata": {
    "collapsed": false
   },
   "outputs": [
    {
     "data": {
      "text/plain": [
       "True"
      ]
     },
     "execution_count": 247,
     "metadata": {},
     "output_type": "execute_result"
    }
   ],
   "source": [
    "import scipy\n",
    "type(X)==scipy.sparse.csr.csr_matrix"
   ]
  },
  {
   "cell_type": "code",
   "execution_count": 254,
   "metadata": {
    "collapsed": false
   },
   "outputs": [
    {
     "data": {
      "text/plain": [
       "array([   1.,    2.,    4.,    8.,   16.,   32.,   64.,  128.,  256.,  512.])"
      ]
     },
     "execution_count": 254,
     "metadata": {},
     "output_type": "execute_result"
    }
   ],
   "source": [
    "para_list = np.logspace(-2, 12, 11, base=2)np.logspace(0,9,10,base=2)\n",
    "print para_list"
   ]
  },
  {
   "cell_type": "code",
   "execution_count": 262,
   "metadata": {
    "collapsed": false
   },
   "outputs": [
    {
     "data": {
      "text/plain": [
       "array([  2.50000000e-01,   5.00000000e-01,   1.00000000e+00,\n",
       "         2.00000000e+00,   4.00000000e+00,   8.00000000e+00,\n",
       "         1.60000000e+01,   3.20000000e+01,   6.40000000e+01,\n",
       "         1.28000000e+02,   2.56000000e+02,   5.12000000e+02,\n",
       "         1.02400000e+03,   2.04800000e+03,   4.09600000e+03])"
      ]
     },
     "execution_count": 262,
     "metadata": {},
     "output_type": "execute_result"
    }
   ],
   "source": [
    "np.logspace(-2,12,15,base=2)"
   ]
  },
  {
   "cell_type": "code",
   "execution_count": null,
   "metadata": {
    "collapsed": true
   },
   "outputs": [],
   "source": []
  }
 ],
 "metadata": {
  "kernelspec": {
   "display_name": "Python 2",
   "language": "python",
   "name": "python2"
  },
  "language_info": {
   "codemirror_mode": {
    "name": "ipython",
    "version": 2
   },
   "file_extension": ".py",
   "mimetype": "text/x-python",
   "name": "python",
   "nbconvert_exporter": "python",
   "pygments_lexer": "ipython2",
   "version": "2.7.13"
  }
 },
 "nbformat": 4,
 "nbformat_minor": 2
}
