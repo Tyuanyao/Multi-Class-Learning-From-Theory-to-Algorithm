{
 "cells": [
  {
   "cell_type": "markdown",
   "metadata": {},
   "source": [
    "##  原始数据格式数据使用numpy.loadtxt读取"
   ]
  },
  {
   "cell_type": "code",
   "execution_count": 175,
   "metadata": {
    "collapsed": false
   },
   "outputs": [],
   "source": [
    "from numpy import loadtxt\n",
    "tmp = loadtxt('../data/fm_train_real.dat').T"
   ]
  },
  {
   "cell_type": "markdown",
   "metadata": {},
   "source": [
    "## libsvm格式数据使用svmutil.svm_read_problem读取，这个最难用了"
   ]
  },
  {
   "cell_type": "code",
   "execution_count": 395,
   "metadata": {
    "collapsed": false
   },
   "outputs": [],
   "source": [
    "import sys\n",
    "sys.path.append('/home/bd-dev/lijian/201801_ICML/script/libsvm/libsvm-3.22/python')\n",
    "from svmutil import *\n",
    "from svm import *\n",
    "test = svm_read_problem('/home/bd-dev/lijian/201801_ICML/tmp/iris.scale')"
   ]
  },
  {
   "cell_type": "markdown",
   "metadata": {},
   "source": [
    "##  libsvm格式数据使用sklearn带的方法读取，这个好用"
   ]
  },
  {
   "cell_type": "code",
   "execution_count": 394,
   "metadata": {
    "collapsed": false
   },
   "outputs": [],
   "source": [
    "from sklearn.externals.joblib import Memory\n",
    "from sklearn.datasets import load_svmlight_file\n",
    "mem = Memory(\"./mycache\")\n",
    "\n",
    "@mem.cache\n",
    "def get_data():\n",
    "    data = load_svmlight_file(\"/home/bd-dev/lijian/201801_ICML/tmp/iris.scale\")\n",
    "    return data[0], data[1]\n",
    "\n",
    "X, y = get_data()\n",
    "X_train, X_test, y_train, y_test = train_test_split(X, y, test_size=0.2)"
   ]
  },
  {
   "cell_type": "markdown",
   "metadata": {},
   "source": [
    "## libsvm格式数据使用shogun带的方法读取，这个一般 "
   ]
  },
  {
   "cell_type": "code",
   "execution_count": 389,
   "metadata": {
    "collapsed": false
   },
   "outputs": [
    {
     "name": "stdout",
     "output_type": "stream",
     "text": [
      "<type 'shogun.SparseRealFeatures'>\n",
      "<type 'numpy.ndarray'>\n"
     ]
    }
   ],
   "source": [
    "from tempfile import NamedTemporaryFile\n",
    "from shogun import SparseRealFeatures\n",
    "from shogun import LibSVMFile\n",
    "fname = '/home/bd-dev/lijian/201801_ICML/tmp/iris.scale'\n",
    "f=SparseRealFeatures()\n",
    "lab=f.load_with_labels(LibSVMFile(fname))\n",
    "tmp_file = NamedTemporaryFile(suffix='svmlight')\n",
    "f.save_with_labels(LibSVMFile(tmp_file.name, 'w'), lab)\n",
    "f.d\n",
    "print type(f)\n",
    "print type(lab)"
   ]
  },
  {
   "cell_type": "markdown",
   "metadata": {},
   "source": [
    "## .mat数据格式使用scipy.io.load读取"
   ]
  },
  {
   "cell_type": "code",
   "execution_count": 9,
   "metadata": {
    "collapsed": false
   },
   "outputs": [],
   "source": [
    "import scipy.io as sio\n",
    "data = sio.loadmat('/home/bd-dev/lijian/201801_ICML/tmp/RawData/plant/plant.phylpro.mat');\n",
    "data['phylpros'].shape\n",
    "X=data['phylpros']\n",
    "\n",
    "data=sio.loadmat('/home/bd-dev/lijian/201801_ICML/data/plant/label_plant.mat');\n",
    "y=data['y'];"
   ]
  },
  {
   "cell_type": "markdown",
   "metadata": {},
   "source": [
    "## 分片->生成核矩阵\n",
    "### 样本交叉验证时维度为(n,d)，生成核矩阵时维度为(d,n)。标签的数据格式是float64，且标签维度:(n,1)->(n,)"
   ]
  },
  {
   "cell_type": "code",
   "execution_count": 15,
   "metadata": {
    "collapsed": false
   },
   "outputs": [
    {
     "name": "stdout",
     "output_type": "stream",
     "text": [
      "(89, 752)\n",
      "(752, 1)\n"
     ]
    }
   ],
   "source": [
    "print X_train.T.shape\n",
    "print y_train.shape"
   ]
  },
  {
   "cell_type": "code",
   "execution_count": 11,
   "metadata": {
    "collapsed": false
   },
   "outputs": [],
   "source": [
    "from shogun import RealFeatures, MulticlassLabels\n",
    "from shogun import GaussianKernel\n",
    "from shogun import LibSVM, KernelMulticlassMachine, MulticlassOneVsRestStrategy\n",
    "from sklearn.model_selection import train_test_split\n",
    "X_train, X_test, y_train, y_test = train_test_split(X, y, test_size=0.2, random_state=42)\n",
    "\n",
    "width=2.1\n",
    "C=1\n",
    "epsilon=1e-5\n",
    "\n",
    "feats_train=RealFeatures(X_train.T)\n",
    "feats_test=RealFeatures(X_test.T)\n",
    "kernel=GaussianKernel(feats_train, feats_train, width)\n",
    "\n",
    "labels=MulticlassLabels(y_train.reshape(y_train.size,).astype('float64'))\n",
    "\n",
    "classifier = LibSVM()\n",
    "classifier.set_epsilon(epsilon)\n",
    "#print labels.get_labels()\n",
    "mc_classifier = KernelMulticlassMachine(MulticlassOneVsRestStrategy(),kernel,classifier,labels)\n",
    "mc_classifier.train()\n",
    "\n",
    "kernel.init(feats_train, feats_test)\n",
    "out = mc_classifier.apply().get_labels()"
   ]
  },
  {
   "cell_type": "markdown",
   "metadata": {},
   "source": [
    "## 整理成方法"
   ]
  },
  {
   "cell_type": "code",
   "execution_count": null,
   "metadata": {
    "collapsed": true
   },
   "outputs": [],
   "source": [
    "#!/usr/bin/env python\n",
    "\n",
    "import sys\n",
    "sys.path.append('/home/bd-dev/lijian/201801_ICML/script/libsvm/libsvm-3.22/python')\n",
    "from sklearn.externals.joblib import Memory\n",
    "from sklearn.datasets import load_svmlight_file\n",
    "mem = Memory(\"./mycache\")\n",
    "\n",
    "import scipy.io as sio\n",
    "import numpy as np\n",
    "from svmutil import *\n",
    "from svm import *\n",
    "from shogun import RealFeatures, MulticlassLabels\n",
    "from shogun import GaussianKernel\n",
    "from shogun import LibSVM, KernelMulticlassMachine, MulticlassOneVsRestStrategy\n",
    "from sklearn.model_selection import train_test_split\n",
    "\n",
    "# OneVsRest learning machine\n",
    "def classifier_multiclassmachine (fm_train_real,fm_test_real,label_train_multiclass,width=2.1,C=1,epsilon=1e-5):\n",
    "    feats_train=RealFeatures(fm_train_real)\n",
    "    feats_test=RealFeatures(fm_test_real)\n",
    "    kernel=GaussianKernel(feats_train, feats_train, width)\n",
    "\n",
    "    labels=MulticlassLabels(label_train_multiclass)\n",
    "\n",
    "    classifier = LibSVM()\n",
    "    classifier.set_epsilon(epsilon)\n",
    "    #print labels.get_labels()\n",
    "    mc_classifier = KernelMulticlassMachine(C, MulticlassOneVsRestStrategy(),kernel,classifier,labels)\n",
    "    mc_classifier.train()\n",
    "\n",
    "    kernel.init(feats_train, feats_test)\n",
    "    out = mc_classifier.apply().get_labels()\n",
    "\n",
    "    return out\n",
    "\n",
    "# load data from txt\n",
    "def loadFromTxt (file_path):\n",
    "    return np.loadtxt(file_path)\n",
    "\n",
    "# load data from libsvm data\n",
    "def loadFromLibsvm (file_path):\n",
    "    sys.path.append('/home/bd-dev/lijian/201801_ICML/script/libsvm/libsvm-3.22/python')\n",
    "    return svm_read_problem(file_path)\n",
    "\n",
    "# load data from .mat file\n",
    "def loadFromLibsvm (file_path):\n",
    "    return sio.loadmat(file_path)\n",
    "\n",
    "# phylpro type file        \n",
    "def FinalResult4phylpro(data_name):\n",
    "    data_path = '/home/bd-dev/lijian/201801_ICML/tmp/RawData/'+ data_name +'/'+ data_name +'.phylpro.mat'\n",
    "    label_path = '/home/bd-dev/lijian/201801_ICML/data/' + data_name + '/label_' + data_name + '.mat'\n",
    "    data = sio.loadmat(data_path)['phylpros']\n",
    "    label = sio.loadmat(label_path)['y']\n",
    "    label=label-label.min()\n",
    "\n",
    "    accuracy=[]\n",
    "    for i in range(times):\n",
    "        X_train, X_test, y_train, y_test = train_test_split(data, label, test_size=test_size)\n",
    "        label_pre = classifier_multiclassmachine(X_train.T, X_test.T, y_train.reshape(y_train.size,).astype('float64'), width, C, epsilon)\n",
    "        accuracy.append((y_test.reshape(y_test.size,).astype('float64')==label_pre).sum()/float(label_pre.size))\n",
    "        print 'finish round ' + str(i) +', accuracy: ' + str(accuracy[len(accuracy)-1])\n",
    "    print(\"\\n\".join(str(item) for item in accuracy))\n",
    "\n",
    "@mem.cache\n",
    "# svmlight type file        \n",
    "def FinalResult4svmlight(data_name):\n",
    "    print 'cj'\n",
    "    data_path = '/home/bd-dev/lijian/201801_ICML/tmp/'+ data_name +'.scale'\n",
    "    data = load_svmlight_file(data_path)\n",
    "    X, y = data[0], data[1].reshape(len(data[1]),1)\n",
    "    y=y-y.min()\n",
    "\n",
    "    accuracy=[]\n",
    "    for i in range(times):        \n",
    "        X_train, X_test, y_train, y_test = train_test_split(X, y, test_size=0.2)\n",
    "        label_pre = classifier_multiclassmachine(X_train.todense().T, X_test.todense().T, y_train.reshape(y_train.size,).astype('float64'), width, C, epsilon)\n",
    "        accuracy.append((y_test.reshape(y_test.size,).astype('float64')==label_pre).sum()/float(label_pre.size))\n",
    "        print 'finish round ' + str(i) +', accuracy: ' + str(accuracy[len(accuracy)-1])\n",
    "    print(\"\\n\".join(str(item) for item in accuracy))"
   ]
  },
  {
   "cell_type": "markdown",
   "metadata": {},
   "source": [
    "## 运行方法的实例"
   ]
  },
  {
   "cell_type": "code",
   "execution_count": 6,
   "metadata": {
    "collapsed": false
   },
   "outputs": [
    {
     "name": "stdout",
     "output_type": "stream",
     "text": [
      "test\n"
     ]
    }
   ],
   "source": [
    "if __name__=='__main__':\n",
    "    times=30\n",
    "    C=100\n",
    "    test_size=0.2\n",
    "    width=8\n",
    "    epsilon=1e-5\n",
    "    FinalResult4svmlight('iris')    \n",
    "    print 'test'"
   ]
  }
 ],
 "metadata": {
  "kernelspec": {
   "display_name": "Python 2",
   "language": "python",
   "name": "python2"
  },
  "language_info": {
   "codemirror_mode": {
    "name": "ipython",
    "version": 2
   },
   "file_extension": ".py",
   "mimetype": "text/x-python",
   "name": "python",
   "nbconvert_exporter": "python",
   "pygments_lexer": "ipython2",
   "version": "2.7.13"
  }
 },
 "nbformat": 4,
 "nbformat_minor": 2
}
