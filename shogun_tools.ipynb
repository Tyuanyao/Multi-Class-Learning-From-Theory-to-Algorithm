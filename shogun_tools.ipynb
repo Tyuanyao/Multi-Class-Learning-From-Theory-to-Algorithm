{
 "cells": [
  {
   "cell_type": "markdown",
   "metadata": {},
   "source": [
    "## 先生成核矩阵保存起来"
   ]
  },
  {
   "cell_type": "code",
   "execution_count": 139,
   "metadata": {
    "collapsed": false
   },
   "outputs": [],
   "source": [
    "from shogun_tools import *\n",
    "from shogun import GMNPSVM, CSVFile\n",
    "\n",
    "def combined_kernel(file_type, data_name, operate_type):\n",
    "    if file_type == '4':\n",
    "        X, y = loadFromMat(data_name)\n",
    "    elif file_type == '5':\n",
    "        X, y = loadFromLibsvm(data_name)\n",
    "    X_train, X_test, y_train, y_test = train_test_split(X, y, test_size=test_size)  \n",
    "    if type(X_train)==scipy.sparse.csr.csr_matrix and type(X_test)==scipy.sparse.csr.csr_matrix:\n",
    "        X_train=X_train.todense()\n",
    "        X_test=X_test.todense()\n",
    "    X_train=X_train.T\n",
    "    X_test=X_test.T\n",
    "    y_train=y_train.reshape(y_train.size,).astype('float64')\n",
    "    y_test=y_test.reshape(y_test.size,).astype('float64')\n",
    "\n",
    "    kernel = CombinedKernel()\n",
    "    feats_train = CombinedFeatures()\n",
    "    feats_test = CombinedFeatures()\n",
    "    subkfeats_train = RealFeatures(X_train)\n",
    "    subkfeats_test = RealFeatures(X_test)\n",
    "    for i in range(-10,11):\n",
    "        subkernel = GaussianKernel(pow(2,i+1))\n",
    "        feats_train.append_feature_obj(subkfeats_train)\n",
    "        feats_test.append_feature_obj(subkfeats_test)\n",
    "        kernel.append_kernel(subkernel)\n",
    "    kernel.init(feats_train, feats_train)\n",
    "    tmp_train_csv = NamedTemporaryFile(suffix=data_name+'_combined.csv')\n",
    "    if operate_type=='save':        \n",
    "        km_train=kernel.get_kernel_matrix()\n",
    "        f=CSVFile(tmp_train_csv.name, \"w\")\n",
    "        kernel.save(f)\n",
    "    elif operate_type=='load':\n",
    "        f=CSVFile(tmp_train_csv.name, \"r\")\n",
    "        kernel.load(f)\n",
    "        \n",
    "    labels=MulticlassLabels(y_train)\n",
    "\n",
    "    mkl = MKLMulticlass(C, kernel, labels)\n",
    "\n",
    "    mkl.set_epsilon(epsilon)\n",
    "    mkl.parallel.set_num_threads(num_threads)\n",
    "    mkl.set_mkl_epsilon(mkl_epsilon)\n",
    "    mkl.set_mkl_norm(mkl_norm)\n",
    "\n",
    "    mkl.train()\n",
    "    kernel.init(feats_train, feats_test)\n",
    "    out =  mkl.apply().get_labels()\n",
    "    print out.shape\n",
    "    print out, y_test\n",
    "    print sum(out==y_test)/float(len(out))\n"
   ]
  },
  {
   "cell_type": "code",
   "execution_count": 149,
   "metadata": {
    "collapsed": false
   },
   "outputs": [
    {
     "name": "stdout",
     "output_type": "stream",
     "text": [
      "(188,)\n",
      "[ 0.  3.  0.  2.  2.  3.  3.  1.  2.  1.  1.  2.  2.  1.  1.  2.  1.  2.\n",
      "  0.  0.  1.  2.  2.  3.  1.  3.  1.  3.  1.  1.  1.  1.  1.  0.  1.  1.\n",
      "  2.  2.  2.  0.  2.  1.  1.  3.  1.  2.  3.  1.  2.  3.  2.  2.  2.  2.\n",
      "  1.  1.  1.  3.  1.  2.  1.  2.  1.  2.  1.  1.  1.  1.  2.  2.  2.  1.\n",
      "  2.  2.  1.  2.  0.  3.  2.  1.  1.  2.  3.  1.  2.  1.  3.  3.  3.  0.\n",
      "  1.  0.  3.  2.  3.  1.  1.  1.  3.  1.  2.  1.  0.  2.  1.  3.  1.  2.\n",
      "  1.  1.  2.  1.  2.  2.  3.  1.  2.  1.  2.  3.  2.  1.  2.  3.  2.  1.\n",
      "  0.  1.  2.  0.  1.  2.  2.  2.  1.  3.  0.  1.  2.  1.  0.  2.  2.  2.\n",
      "  3.  1.  1.  2.  1.  1.  1.  3.  2.  3.  1.  2.  1.  1.  1.  1.  2.  1.\n",
      "  1.  1.  2.  1.  2.  1.  3.  1.  2.  2.  1.  0.  3.  3.  2.  2.  2.  2.\n",
      "  1.  2.  1.  1.  2.  1.  1.  3.] [ 0.  3.  0.  3.  2.  3.  3.  1.  2.  1.  1.  3.  2.  1.  1.  2.  1.  2.\n",
      "  1.  1.  1.  3.  2.  3.  1.  3.  1.  0.  1.  1.  1.  1.  1.  0.  3.  1.\n",
      "  2.  2.  2.  3.  2.  1.  1.  3.  1.  2.  3.  1.  2.  3.  0.  2.  2.  2.\n",
      "  0.  1.  1.  3.  1.  2.  0.  2.  1.  1.  1.  0.  1.  1.  1.  2.  3.  0.\n",
      "  2.  2.  0.  2.  0.  0.  2.  0.  0.  2.  1.  1.  0.  1.  3.  3.  3.  0.\n",
      "  1.  0.  1.  2.  3.  1.  1.  1.  3.  1.  2.  1.  3.  2.  1.  0.  1.  2.\n",
      "  1.  1.  2.  1.  2.  2.  0.  1.  1.  1.  2.  3.  2.  1.  0.  3.  3.  1.\n",
      "  0.  1.  2.  0.  1.  3.  2.  3.  1.  3.  0.  1.  2.  1.  0.  2.  2.  2.\n",
      "  0.  1.  1.  2.  1.  1.  1.  0.  2.  3.  1.  2.  3.  1.  1.  1.  2.  1.\n",
      "  1.  1.  2.  1.  2.  1.  3.  1.  3.  3.  1.  0.  3.  3.  3.  2.  2.  2.\n",
      "  1.  3.  1.  1.  2.  1.  1.  3.]\n",
      "0.797872340426\n",
      "use time : 110.053076982\n"
     ]
    }
   ],
   "source": [
    "times=30\n",
    "C=100 #[1, 10, 100, 1000]    \n",
    "epsilon=1e-5\n",
    "mkl_epsilon=0.001\n",
    "test_size=0.2\n",
    "width=8\n",
    "num_threads=32\n",
    "mkl_norm=1\n",
    "\n",
    "import time\n",
    "start = time.time()\n",
    "combined_kernel('4', 'plant','load')\n",
    "end=time.time()\n",
    "print 'use time : ' + str(end-start)\n",
    "\n"
   ]
  },
  {
   "cell_type": "raw",
   "metadata": {
    "collapsed": false
   },
   "source": [
    "\n",
    "#     feats_train=RealFeatures(X_train)\n",
    "#     feats_test=RealFeatures(X_test)\n",
    "#     kernel= GaussianKernel(feats_train, feats_train, width)        \n",
    "#     km_train=kernel.get_kernel_matrix()\n",
    "#     tmp_train_csv = NamedTemporaryFile(suffix='train.csv')\n",
    "#     f=CSVFile(tmp_train_csv.name, \"w\")\n",
    "#     kernel.save(f)\n",
    "#     kernel1= GaussianKernel(feats_train, feats_train, width)    \n",
    "#     kernel1.load(f)"
   ]
  },
  {
   "cell_type": "code",
   "execution_count": 33,
   "metadata": {
    "collapsed": false
   },
   "outputs": [
    {
     "data": {
      "text/plain": [
       "8.2535074399873327"
      ]
     },
     "execution_count": 33,
     "metadata": {},
     "output_type": "execute_result"
    }
   ],
   "source": [
    "k2.get_kernel_matrix()[1,0]"
   ]
  },
  {
   "cell_type": "code",
   "execution_count": 28,
   "metadata": {
    "collapsed": false
   },
   "outputs": [
    {
     "data": {
      "text/plain": [
       "array([[ True, False, False, ..., False, False, False],\n",
       "       [False,  True, False, ..., False, False, False],\n",
       "       [False, False,  True, ..., False, False, False],\n",
       "       ..., \n",
       "       [False, False, False, ...,  True, False, False],\n",
       "       [False, False, False, ..., False,  True, False],\n",
       "       [False, False, False, ..., False, False,  True]], dtype=bool)"
      ]
     },
     "execution_count": 28,
     "metadata": {},
     "output_type": "execute_result"
    }
   ],
   "source": [
    "k2.get_kernel_matrix().T==k1.get_kernel_matrix()"
   ]
  },
  {
   "cell_type": "code",
   "execution_count": 32,
   "metadata": {
    "collapsed": false
   },
   "outputs": [
    {
     "data": {
      "text/plain": [
       "8.1576132247494435"
      ]
     },
     "execution_count": 32,
     "metadata": {},
     "output_type": "execute_result"
    }
   ],
   "source": [
    "k1.get_kernel_matrix()[0,1]"
   ]
  },
  {
   "cell_type": "code",
   "execution_count": null,
   "metadata": {
    "collapsed": true
   },
   "outputs": [],
   "source": []
  }
 ],
 "metadata": {
  "kernelspec": {
   "display_name": "Python 2",
   "language": "python",
   "name": "python2"
  },
  "language_info": {
   "codemirror_mode": {
    "name": "ipython",
    "version": 2
   },
   "file_extension": ".py",
   "mimetype": "text/x-python",
   "name": "python",
   "nbconvert_exporter": "python",
   "pygments_lexer": "ipython2",
   "version": "2.7.13"
  }
 },
 "nbformat": 4,
 "nbformat_minor": 2
}
