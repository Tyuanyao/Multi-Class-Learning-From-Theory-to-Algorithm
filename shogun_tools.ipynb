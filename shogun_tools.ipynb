{
 "cells": [
  {
   "cell_type": "markdown",
   "metadata": {},
   "source": [
    "## 先生成核矩阵保存起来"
   ]
  },
  {
   "cell_type": "code",
   "execution_count": 139,
   "metadata": {
    "collapsed": false
   },
   "outputs": [],
   "source": [
    "from shogun_tools import *\n",
    "from shogun import GMNPSVM, CSVFile\n",
    "\n",
    "def combined_kernel(file_type, data_name, operate_type):\n",
    "    if file_type == '4':\n",
    "        X, y = loadFromMat(data_name)\n",
    "    elif file_type == '5':\n",
    "        X, y = loadFromLibsvm(data_name)\n",
    "    X_train, X_test, y_train, y_test = train_test_split(X, y, test_size=test_size)  \n",
    "    if type(X_train)==scipy.sparse.csr.csr_matrix and type(X_test)==scipy.sparse.csr.csr_matrix:\n",
    "        X_train=X_train.todense()\n",
    "        X_test=X_test.todense()\n",
    "    X_train=X_train.T\n",
    "    X_test=X_test.T\n",
    "    y_train=y_train.reshape(y_train.size,).astype('float64')\n",
    "    y_test=y_test.reshape(y_test.size,).astype('float64')\n",
    "\n",
    "    kernel = CombinedKernel()\n",
    "    feats_train = CombinedFeatures()\n",
    "    feats_test = CombinedFeatures()\n",
    "    subkfeats_train = RealFeatures(X_train)\n",
    "    subkfeats_test = RealFeatures(X_test)\n",
    "    for i in range(-10,11):\n",
    "        subkernel = GaussianKernel(pow(2,i+1))\n",
    "        feats_train.append_feature_obj(subkfeats_train)\n",
    "        feats_test.append_feature_obj(subkfeats_test)\n",
    "        kernel.append_kernel(subkernel)\n",
    "    kernel.init(feats_train, feats_train)\n",
    "    tmp_train_csv = NamedTemporaryFile(suffix=data_name+'_combined.csv')\n",
    "    if operate_type=='save':        \n",
    "        km_train=kernel.get_kernel_matrix()\n",
    "        f=CSVFile(tmp_train_csv.name, \"w\")\n",
    "        kernel.save(f)\n",
    "    elif operate_type=='load':\n",
    "        f=CSVFile(tmp_train_csv.name, \"r\")\n",
    "        kernel.load(f)\n",
    "        \n",
    "    labels=MulticlassLabels(y_train)\n",
    "\n",
    "    mkl = MKLMulticlass(C, kernel, labels)\n",
    "\n",
    "    mkl.set_epsilon(epsilon)\n",
    "    mkl.parallel.set_num_threads(num_threads)\n",
    "    mkl.set_mkl_epsilon(mkl_epsilon)\n",
    "    mkl.set_mkl_norm(mkl_norm)\n",
    "\n",
    "    mkl.train()\n",
    "    kernel.init(feats_train, feats_test)\n",
    "    out =  mkl.apply().get_labels()\n",
    "    print out.shape\n",
    "    print out, y_test\n",
    "    print sum(out==y_test)/float(len(out))\n"
   ]
  },
  {
   "cell_type": "code",
   "execution_count": 149,
   "metadata": {
    "collapsed": false
   },
   "outputs": [
    {
     "name": "stdout",
     "output_type": "stream",
     "text": [
      "(188,)\n",
      "[ 0.  3.  0.  2.  2.  3.  3.  1.  2.  1.  1.  2.  2.  1.  1.  2.  1.  2.\n",
      "  0.  0.  1.  2.  2.  3.  1.  3.  1.  3.  1.  1.  1.  1.  1.  0.  1.  1.\n",
      "  2.  2.  2.  0.  2.  1.  1.  3.  1.  2.  3.  1.  2.  3.  2.  2.  2.  2.\n",
      "  1.  1.  1.  3.  1.  2.  1.  2.  1.  2.  1.  1.  1.  1.  2.  2.  2.  1.\n",
      "  2.  2.  1.  2.  0.  3.  2.  1.  1.  2.  3.  1.  2.  1.  3.  3.  3.  0.\n",
      "  1.  0.  3.  2.  3.  1.  1.  1.  3.  1.  2.  1.  0.  2.  1.  3.  1.  2.\n",
      "  1.  1.  2.  1.  2.  2.  3.  1.  2.  1.  2.  3.  2.  1.  2.  3.  2.  1.\n",
      "  0.  1.  2.  0.  1.  2.  2.  2.  1.  3.  0.  1.  2.  1.  0.  2.  2.  2.\n",
      "  3.  1.  1.  2.  1.  1.  1.  3.  2.  3.  1.  2.  1.  1.  1.  1.  2.  1.\n",
      "  1.  1.  2.  1.  2.  1.  3.  1.  2.  2.  1.  0.  3.  3.  2.  2.  2.  2.\n",
      "  1.  2.  1.  1.  2.  1.  1.  3.] [ 0.  3.  0.  3.  2.  3.  3.  1.  2.  1.  1.  3.  2.  1.  1.  2.  1.  2.\n",
      "  1.  1.  1.  3.  2.  3.  1.  3.  1.  0.  1.  1.  1.  1.  1.  0.  3.  1.\n",
      "  2.  2.  2.  3.  2.  1.  1.  3.  1.  2.  3.  1.  2.  3.  0.  2.  2.  2.\n",
      "  0.  1.  1.  3.  1.  2.  0.  2.  1.  1.  1.  0.  1.  1.  1.  2.  3.  0.\n",
      "  2.  2.  0.  2.  0.  0.  2.  0.  0.  2.  1.  1.  0.  1.  3.  3.  3.  0.\n",
      "  1.  0.  1.  2.  3.  1.  1.  1.  3.  1.  2.  1.  3.  2.  1.  0.  1.  2.\n",
      "  1.  1.  2.  1.  2.  2.  0.  1.  1.  1.  2.  3.  2.  1.  0.  3.  3.  1.\n",
      "  0.  1.  2.  0.  1.  3.  2.  3.  1.  3.  0.  1.  2.  1.  0.  2.  2.  2.\n",
      "  0.  1.  1.  2.  1.  1.  1.  0.  2.  3.  1.  2.  3.  1.  1.  1.  2.  1.\n",
      "  1.  1.  2.  1.  2.  1.  3.  1.  3.  3.  1.  0.  3.  3.  3.  2.  2.  2.\n",
      "  1.  3.  1.  1.  2.  1.  1.  3.]\n",
      "0.797872340426\n",
      "use time : 110.053076982\n"
     ]
    }
   ],
   "source": [
    "times=30\n",
    "C=100 #[1, 10, 100, 1000]    \n",
    "epsilon=1e-5\n",
    "mkl_epsilon=0.001\n",
    "test_size=0.2\n",
    "width=8\n",
    "num_threads=32\n",
    "mkl_norm=1\n",
    "\n",
    "import time\n",
    "start = time.time()\n",
    "combined_kernel('4', 'plant','load')\n",
    "end=time.time()\n",
    "print 'use time : ' + str(end-start)\n",
    "\n"
   ]
  },
  {
   "cell_type": "raw",
   "metadata": {
    "collapsed": false
   },
   "source": [
    "\n",
    "#     feats_train=RealFeatures(X_train)\n",
    "#     feats_test=RealFeatures(X_test)\n",
    "#     kernel= GaussianKernel(feats_train, feats_train, width)        \n",
    "#     km_train=kernel.get_kernel_matrix()\n",
    "#     tmp_train_csv = NamedTemporaryFile(suffix='train.csv')\n",
    "#     f=CSVFile(tmp_train_csv.name, \"w\")\n",
    "#     kernel.save(f)\n",
    "#     kernel1= GaussianKernel(feats_train, feats_train, width)    \n",
    "#     kernel1.load(f)"
   ]
  },
  {
   "cell_type": "code",
   "execution_count": 33,
   "metadata": {
    "collapsed": false
   },
   "outputs": [
    {
     "data": {
      "text/plain": [
       "8.2535074399873327"
      ]
     },
     "execution_count": 33,
     "metadata": {},
     "output_type": "execute_result"
    }
   ],
   "source": [
    "k2.get_kernel_matrix()[1,0]"
   ]
  },
  {
   "cell_type": "code",
   "execution_count": 28,
   "metadata": {
    "collapsed": false
   },
   "outputs": [
    {
     "data": {
      "text/plain": [
       "array([[ True, False, False, ..., False, False, False],\n",
       "       [False,  True, False, ..., False, False, False],\n",
       "       [False, False,  True, ..., False, False, False],\n",
       "       ..., \n",
       "       [False, False, False, ...,  True, False, False],\n",
       "       [False, False, False, ..., False,  True, False],\n",
       "       [False, False, False, ..., False, False,  True]], dtype=bool)"
      ]
     },
     "execution_count": 28,
     "metadata": {},
     "output_type": "execute_result"
    }
   ],
   "source": [
    "k2.get_kernel_matrix().T==k1.get_kernel_matrix()"
   ]
  },
  {
   "cell_type": "code",
   "execution_count": 32,
   "metadata": {
    "collapsed": false
   },
   "outputs": [
    {
     "data": {
      "text/plain": [
       "8.1576132247494435"
      ]
     },
     "execution_count": 32,
     "metadata": {},
     "output_type": "execute_result"
    }
   ],
   "source": [
    "k1.get_kernel_matrix()[0,1]"
   ]
  },
  {
   "cell_type": "code",
   "execution_count": null,
   "metadata": {
    "collapsed": true
   },
   "outputs": [],
   "source": [
    "\\begin{table*}[t]\n",
    "\\small\n",
    "\\footnotesize\n",
    "%\\scriptsize\n",
    "%\\tiny\n",
    "%\\renewcommand{\\captionfont}{\\small}\n",
    "   \\caption{\n",
    "    \\small Comparison of average test accuracies of our \\texttt{Conv-MKL} and \\texttt{SMSD-MKL} with the others including\n",
    "    the linear multi-class SVM (LSVM),\n",
    "    One-against-One (One vs. One),\n",
    "    One-against-the-Rest(One vs. Rest),\n",
    "    Generalized Minimal Norm Problem solver (GMNP),\n",
    "    the $\\ell_1$-norm Multiclass MKL ($\\ell_1$ MC-MKL),\n",
    "    the $\\ell_2$-norm Multiclass MKL ($\\ell_2$ MC-MKL),\n",
    "    and mixed-norm MKL solved by stochastic gradient descent (UFO-MKL).\n",
    "    We bold the numbers of the best method, and underline the numbers of the other methods\n",
    "    which are not significantly worse than the best one.\n",
    "   %We set the numbers of our method (EPSVM) to be bold if our method outperforms all other methods (KTA, CKTA, FSM, 3-CV, 5-CV and 10-CV).\n",
    "   }\n",
    "   \\label{tabel:accuracy}\n",
    "    %\\centering\n",
    "    \\begin{tabular*}{\\linewidth}{@{\\extracolsep{-0.25cm}}lccccccccc}\n",
    "    \\toprule\n",
    "                   & Conv-MKL                  & SMSD-MKL                 & C\\&S               & One vs. One              & One vs. Rest                                              & GMNP                      & $\\ell_1$ MC-MKL          & $\\ell_2$ MC-MKL    & UFO-MKL                  \\\\ \\hline\n",
    "plant              &77.14$\\pm$2.25             & \\textbf{78.01$\\pm$2.17}  & 70.12$\\pm$2.96     & 75.83$\\pm$2.69           &75.17$\\pm$2.68       &75.42$\\pm$3.64    & \\underline{77.60$\\pm$2.63}&75.49$\\pm$2.48            &76.77$\\pm$2.42\\\\\n",
    "psortPos           &74.41$\\pm$3.35             & \\textbf{76.23$\\pm$3.39}  &63.85$\\pm$3.94      &73.33$\\pm$4.21            &71.70$\\pm$4.89       & 73.55$\\pm$4.22   &71.87$\\pm$4.87             &70.70$\\pm$4.89            &74.56$\\pm$4.04\\\\\n",
    "psortNeg           &74.07$\\pm$2.16             & \\textbf{74.66$\\pm$1.90}  &57.85$\\pm$2.49      &73.74$\\pm$2.87            &71.94$\\pm$2.50   &\\underline{74.27$\\pm$2.51}   &72.83$\\pm$2.20                             &72.42$\\pm$2.65      &73.80$\\pm$2.26 \\\\\n",
    "nonpl              & \\textbf{79.15$\\pm$1.51}   &78.69$\\pm$1.58            &75.16$\\pm$1.48      &77.78$\\pm$1.52            &77.49$\\pm$1.53 &78.35$\\pm$1.46    &77.89$\\pm$1.79             &77.95$\\pm$1.64            &78.07$\\pm$1.56\\\\\n",
    "sector             &\\underline{92.83$\\pm$2.62} & \\textbf{93.39$\\pm$0.70}  &93.16$\\pm$0.66      &90.61$\\pm$0.69            &\\underline{93.34$\\pm$0.61}                    &\\                         &\\                   &92.15$\\pm$2.57            &92.60$\\pm$0.47\\\\\n",
    "segment            &96.79$\\pm$0.91             & \\textbf{97.62$\\pm$0.83}  &95.07$\\pm$1.11      &97.08$\\pm$0.61            &97.02$\\pm$0.80       &96.87$\\pm$0.80    &96.98$\\pm$0.64             &\\underline{97.58$\\pm$0.68}&97.20$\\pm$0.82\\\\\n",
    "vehicle            &79.35$\\pm$2.27             & 77.28$\\pm$2.78           &75.61$\\pm$3.56      &82.72$\\pm$1.92            &\\textbf{85.11$\\pm$1.94}       &81.57$\\pm$2.24    &74.96$\\pm$2.93             &76.27$\\pm$3.15            &76.92$\\pm$2.83\\\\\n",
    "vowel              &98.82$\\pm$1.19             &\\textbf{98.83$\\pm$5.57}   &62.32$\\pm$4.97      &98.12$\\pm$1.76            &98.22$\\pm$1.83       &97.04$\\pm$1.85    &98.27$\\pm$1.22             &97.86$\\pm$1.75            &98.22$\\pm$1.62\\\\\n",
    "wine               &\\textbf{99.63$\\pm$0.96}    &\\textbf{99.63$\\pm$0.96}   &97.87$\\pm$2.80      &97.24$\\pm$3.05            &98.14$\\pm$3.04       &97.69$\\pm$2.43    &98.61$\\pm$1.75             &98.52$\\pm$1.89            &99.44$\\pm$1.13            \\\\\n",
    "dna                &96.08$\\pm$0.83             &\\textbf{96.30$\\pm$0.79}   &92.02$\\pm$1.50      &95.89$\\pm$0.56            &95.61$\\pm$0.73       &94.60$\\pm$0.94    &\\underline{96.27$\\pm$0.68}             &95.06$\\pm$0.92            &95.84$\\pm$0.61\\\\\n",
    "glass              &\\textbf{75.19$\\pm$5.05}    & 73.72$\\pm$5.80           &63.95$\\pm$6.04      &71.98$\\pm$5.75            &70.00$\\pm$5.75       &71.24$\\pm$8.14    &69.07$\\pm$8.08             &74.03$\\pm$6.41            &72.46$\\pm$6.12\\\\\n",
    "iris               &\\textbf{98.00$\\pm$2.25}    &\\underline{97.33$\\pm$2.53}&89.67$\\pm$8.71      &96.76$\\pm$2.63            &96.11$\\pm$3.04       &96.11$\\pm$4.11    &96.00$\\pm$3.65             &95.44$\\pm$3.66            &95.56$\\pm$3.07\\\\\n",
    "svmguide2          &82.69$\\pm$5.65             &\\textbf{85.17$\\pm$3.83}   &81.10$\\pm$4.15      &\\underline{84.79$\\pm$3.45}&\\underline{84.27$\\pm$3.03}  &81.77$\\pm$3.45    &83.16$\\pm$3.63             &\\underline{83.84$\\pm$4.21}            &82.91$\\pm$3.09\\\\\n",
    "satimage           &91.64$\\pm$0.88             &\\underline{91.78$\\pm$0.82}&84.95$\\pm$1.15      &90.67$\\pm$0.91            &89.29$\\pm$0.96       &89.97$\\pm$0.81    &\\underline{91.86$\\pm$0.62} &90.43$\\pm$1.27            &\\textbf{91.92$\\pm$0.83}\\\\\n",
    "\\bottomrule\n",
    "\\end{tabular*}\n",
    "\\vspace{-0.3cm}\n",
    "\\end{table*}"
   ]
  }
 ],
 "metadata": {
  "kernelspec": {
   "display_name": "Python 2",
   "language": "python",
   "name": "python2"
  },
  "language_info": {
   "codemirror_mode": {
    "name": "ipython",
    "version": 2
   },
   "file_extension": ".py",
   "mimetype": "text/x-python",
   "name": "python",
   "nbconvert_exporter": "python",
   "pygments_lexer": "ipython2",
   "version": "2.7.13"
  }
 },
 "nbformat": 4,
 "nbformat_minor": 2
}
