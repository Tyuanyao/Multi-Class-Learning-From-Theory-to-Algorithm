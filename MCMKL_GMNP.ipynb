{
 "cells": [
  {
   "cell_type": "code",
   "execution_count": 1,
   "metadata": {
    "collapsed": false
   },
   "outputs": [],
   "source": [
    "#!/usr/bin/env python\n",
    "import sys\n",
    "sys.path.append('/home/bd-dev/lijian/201801_ICML/script/libsvm/libsvm-3.22/python')\n",
    "from sklearn.externals.joblib import Memory\n",
    "from sklearn.datasets import load_svmlight_file\n",
    "mem = Memory(\"./mycache\")\n",
    "\n",
    "import scipy.io as sio\n",
    "import numpy as np\n",
    "from svmutil import *\n",
    "from svm import *\n",
    "from shogun import LibSVM, KernelMulticlassMachine, MulticlassOneVsRestStrategy\n",
    "from shogun import CombinedFeatures, RealFeatures, MulticlassLabels\n",
    "from shogun import CombinedKernel, GaussianKernel, LinearKernel,PolyKernel\n",
    "from shogun import MKLMulticlass\n",
    "from shogun import GMNPSVM, CSVFile\n",
    "from sklearn.model_selection import train_test_split\n",
    "\n",
    "# load data from txt\n",
    "def loadFromTxt (file_path):\n",
    "    return np.loadtxt(file_path)\n",
    "\n",
    "# load data from libsvm data\n",
    "def loadFromLibsvm (file_path):\n",
    "    sys.path.append('/home/bd-dev/lijian/201801_ICML/script/libsvm/libsvm-3.22/python')\n",
    "    return svm_read_problem(file_path)\n",
    "\n",
    "# load data from .mat file\n",
    "def loadFromLibsvm (file_path):\n",
    "    return sio.loadmat(file_path)\n",
    "\n",
    "# OneVsRest learning machine\n",
    "def classifier_multiclassmachine (fm_train_real,fm_test_real,label_train_multiclass,width=2.1,C=1,epsilon=1e-5):\n",
    "    feats_train=RealFeatures(fm_train_real)\n",
    "    feats_test=RealFeatures(fm_test_real)\n",
    "    kernel=GaussianKernel(feats_train, feats_train, width)\n",
    "\n",
    "    labels=MulticlassLabels(label_train_multiclass)\n",
    "\n",
    "    classifier = LibSVM()\n",
    "    classifier.set_epsilon(epsilon)\n",
    "    #print labels.get_labels()\n",
    "    mc_classifier = KernelMulticlassMachine(MulticlassOneVsRestStrategy(),kernel,classifier,labels)\n",
    "    mc_classifier.train()\n",
    "\n",
    "    kernel.init(feats_train, feats_test)\n",
    "    out = mc_classifier.apply().get_labels()\n",
    "    return out\n",
    "\n",
    "# mc-mkl learning machine\n",
    "def mkl_multiclass (fm_train_real, fm_test_real, label_train_multiclass,\n",
    "    C, epsilon, num_threads, mkl_epsilon, mkl_norm):\n",
    "    kernel = CombinedKernel()\n",
    "    feats_train = CombinedFeatures()\n",
    "    feats_test = CombinedFeatures()\n",
    "\n",
    "    for i in range(-10,11):\n",
    "        subkfeats_train = RealFeatures(fm_train_real)\n",
    "        subkfeats_test = RealFeatures(fm_test_real)\n",
    "        subkernel = GaussianKernel(pow(2,i+1))\n",
    "        feats_train.append_feature_obj(subkfeats_train)\n",
    "        feats_test.append_feature_obj(subkfeats_test)\n",
    "        kernel.append_kernel(subkernel)\n",
    "\n",
    "    kernel.init(feats_train, feats_train)\n",
    "\n",
    "    labels = MulticlassLabels(label_train_multiclass)\n",
    "\n",
    "    mkl = MKLMulticlass(C, kernel, labels)\n",
    "\n",
    "    mkl.set_epsilon(epsilon)\n",
    "    mkl.parallel.set_num_threads(num_threads)\n",
    "    mkl.set_mkl_epsilon(mkl_epsilon)\n",
    "    mkl.set_mkl_norm(mkl_norm)\n",
    "\n",
    "    mkl.train()\n",
    "\n",
    "    kernel.init(feats_train, feats_test)\n",
    "\n",
    "    out =  mkl.apply().get_labels()\n",
    "    return out\n",
    "\n",
    "def classifier_gmnpsvm (fm_train_real,fm_test_real,label_train_multiclass,width=2.1,C=1,epsilon=1e-5):\n",
    "    feats_train=RealFeatures(fm_train_real)\n",
    "    feats_test=RealFeatures(fm_test_real)\n",
    "    kernel=GaussianKernel(feats_train, feats_train, width)\n",
    "\n",
    "    labels=MulticlassLabels(label_train_multiclass)\n",
    "\n",
    "    svm=GMNPSVM(C, kernel, labels)\n",
    "    svm.set_epsilon(epsilon)\n",
    "    svm.train(feats_train)\n",
    "\n",
    "    out=svm.apply(feats_test).get_labels()\n",
    "    return out\n",
    "\n",
    "\n",
    "def phylproFile(mode, data_name):\n",
    "    data_path = '/home/bd-dev/lijian/201801_ICML/tmp/RawData/'+ data_name +'/'+ data_name +'.phylpro.mat'\n",
    "    label_path = '/home/bd-dev/lijian/201801_ICML/data/' + data_name + '/label_' + data_name + '.mat'\n",
    "    data = sio.loadmat(data_path)['phylpros']\n",
    "    label = sio.loadmat(label_path)['y']\n",
    "    label=label-label.min()\n",
    "\n",
    "    accuracy=[]\n",
    "    for i in range(times):\n",
    "        X_train, X_test, y_train, y_test = train_test_split(data, label, test_size=test_size)\n",
    "        if mode=='mcmkl':\n",
    "            label_pre = mkl_multiclass(X_train.T, X_test.T, y_train.reshape(y_train.size,).astype('float64'), C, epsilon, num_threads, mkl_epsilon, mkl_norm)\n",
    "        elif mode=='1v1':\n",
    "            label_pre = classifier_multiclassmachine(X_train.T, X_test.T, y_train.reshape(y_train.size,).astype('float64'), width, C, epsilon)\n",
    "        accuracy.append((y_test.reshape(y_test.size,).astype('float64')==label_pre).sum()/float(label_pre.size))\n",
    "        print 'finish round ' + str(i) +', accuracy: ' + str(accuracy[len(accuracy)-1])\n",
    "    print(\"\\n\".join(str(item) for item in accuracy))\n",
    "\n",
    "def svmlightFile(mode, data_name):\n",
    "    data_path = '/home/bd-dev/lijian/201801_ICML/tmp/'+ data_name +'.scale'\n",
    "    data = load_svmlight_file(data_path)\n",
    "    X, y = data[0], data[1].reshape(len(data[1]),1)\n",
    "    y=y-y.min()\n",
    "\n",
    "    accuracy=[]\n",
    "    for i in range(times):        \n",
    "        X_train, X_test, y_train, y_test = train_test_split(X, y, test_size=0.2)\n",
    "        if mode=='mcmkl':\n",
    "            label_pre = mkl_multiclass(X_train.toarray().T, X_test.toarray().T, y_train.reshape(y_train.size,).astype('float64'), C, epsilon, num_threads, mkl_epsilon, mkl_norm)\n",
    "        elif mode=='1v1':\n",
    "            label_pre = classifier_multiclassmachine(X_train.toarray().T, X_test.toarray().T, y_train.reshape(y_train.size,).astype('float64'), width, C, epsilon)\n",
    "        accuracy.append((y_test.reshape(y_test.size,).astype('float64')==label_pre).sum()/float(label_pre.size))\n",
    "        print 'finish round ' + str(i) +', accuracy: ' + str(accuracy[len(accuracy)-1])\n",
    "    print(\"\\n\".join(str(item) for item in accuracy))"
   ]
  },
  {
   "cell_type": "code",
   "execution_count": 2,
   "metadata": {
    "collapsed": false
   },
   "outputs": [
    {
     "name": "stdout",
     "output_type": "stream",
     "text": [
      "finish round 0, accuracy: 0.933333333333\n",
      "finish round 1, accuracy: 0.866666666667\n",
      "finish round 2, accuracy: 0.933333333333\n",
      "finish round 3, accuracy: 0.966666666667\n",
      "finish round 4, accuracy: 0.966666666667\n",
      "finish round 5, accuracy: 0.966666666667\n",
      "finish round 6, accuracy: 0.933333333333\n",
      "finish round 7, accuracy: 0.966666666667\n",
      "finish round 8, accuracy: 1.0\n",
      "finish round 9, accuracy: 0.966666666667\n",
      "finish round 10, accuracy: 0.933333333333\n",
      "finish round 11, accuracy: 0.966666666667\n",
      "finish round 12, accuracy: 0.966666666667\n",
      "finish round 13, accuracy: 0.966666666667\n",
      "finish round 14, accuracy: 0.933333333333\n",
      "finish round 15, accuracy: 1.0\n",
      "finish round 16, accuracy: 0.933333333333\n"
     ]
    },
    {
     "ename": "KeyboardInterrupt",
     "evalue": "",
     "output_type": "error",
     "traceback": [
      "\u001b[0;31m---------------------------------------------------------------------------\u001b[0m",
      "\u001b[0;31mKeyboardInterrupt\u001b[0m                         Traceback (most recent call last)",
      "\u001b[0;32m<ipython-input-2-0e9d6c4c907c>\u001b[0m in \u001b[0;36m<module>\u001b[0;34m()\u001b[0m\n\u001b[1;32m     22\u001b[0m             \u001b[0mlabel_pre\u001b[0m \u001b[0;34m=\u001b[0m \u001b[0mclassifier_multiclassmachine\u001b[0m\u001b[0;34m(\u001b[0m\u001b[0mX_train\u001b[0m\u001b[0;34m.\u001b[0m\u001b[0mtodense\u001b[0m\u001b[0;34m(\u001b[0m\u001b[0;34m)\u001b[0m\u001b[0;34m.\u001b[0m\u001b[0mT\u001b[0m\u001b[0;34m,\u001b[0m \u001b[0mX_test\u001b[0m\u001b[0;34m.\u001b[0m\u001b[0mtodense\u001b[0m\u001b[0;34m(\u001b[0m\u001b[0;34m)\u001b[0m\u001b[0;34m.\u001b[0m\u001b[0mT\u001b[0m\u001b[0;34m,\u001b[0m \u001b[0my_train\u001b[0m\u001b[0;34m.\u001b[0m\u001b[0mreshape\u001b[0m\u001b[0;34m(\u001b[0m\u001b[0my_train\u001b[0m\u001b[0;34m.\u001b[0m\u001b[0msize\u001b[0m\u001b[0;34m,\u001b[0m\u001b[0;34m)\u001b[0m\u001b[0;34m.\u001b[0m\u001b[0mastype\u001b[0m\u001b[0;34m(\u001b[0m\u001b[0;34m'float64'\u001b[0m\u001b[0;34m)\u001b[0m\u001b[0;34m,\u001b[0m \u001b[0mwidth\u001b[0m\u001b[0;34m,\u001b[0m \u001b[0mC\u001b[0m\u001b[0;34m,\u001b[0m \u001b[0mepsilon\u001b[0m\u001b[0;34m)\u001b[0m\u001b[0;34m\u001b[0m\u001b[0m\n\u001b[1;32m     23\u001b[0m         \u001b[0;32melif\u001b[0m \u001b[0mmode\u001b[0m\u001b[0;34m==\u001b[0m\u001b[0;34m'gmnp'\u001b[0m\u001b[0;34m:\u001b[0m\u001b[0;34m\u001b[0m\u001b[0m\n\u001b[0;32m---> 24\u001b[0;31m             \u001b[0mlabel_pre\u001b[0m \u001b[0;34m=\u001b[0m \u001b[0mclassifier_gmnpsvm\u001b[0m\u001b[0;34m(\u001b[0m\u001b[0mX_train\u001b[0m\u001b[0;34m.\u001b[0m\u001b[0mtoarray\u001b[0m\u001b[0;34m(\u001b[0m\u001b[0;34m)\u001b[0m\u001b[0;34m.\u001b[0m\u001b[0mT\u001b[0m\u001b[0;34m,\u001b[0m \u001b[0mX_test\u001b[0m\u001b[0;34m.\u001b[0m\u001b[0mtoarray\u001b[0m\u001b[0;34m(\u001b[0m\u001b[0;34m)\u001b[0m\u001b[0;34m.\u001b[0m\u001b[0mT\u001b[0m\u001b[0;34m,\u001b[0m \u001b[0my_train\u001b[0m\u001b[0;34m.\u001b[0m\u001b[0mreshape\u001b[0m\u001b[0;34m(\u001b[0m\u001b[0my_train\u001b[0m\u001b[0;34m.\u001b[0m\u001b[0msize\u001b[0m\u001b[0;34m,\u001b[0m\u001b[0;34m)\u001b[0m\u001b[0;34m.\u001b[0m\u001b[0mastype\u001b[0m\u001b[0;34m(\u001b[0m\u001b[0;34m'float64'\u001b[0m\u001b[0;34m)\u001b[0m\u001b[0;34m,\u001b[0m \u001b[0mwidth\u001b[0m\u001b[0;34m,\u001b[0m \u001b[0mC\u001b[0m\u001b[0;34m,\u001b[0m \u001b[0mepsilon\u001b[0m\u001b[0;34m)\u001b[0m\u001b[0;34m\u001b[0m\u001b[0m\n\u001b[0m\u001b[1;32m     25\u001b[0m         \u001b[0maccuracy\u001b[0m\u001b[0;34m.\u001b[0m\u001b[0mappend\u001b[0m\u001b[0;34m(\u001b[0m\u001b[0;34m(\u001b[0m\u001b[0my_test\u001b[0m\u001b[0;34m.\u001b[0m\u001b[0mreshape\u001b[0m\u001b[0;34m(\u001b[0m\u001b[0my_test\u001b[0m\u001b[0;34m.\u001b[0m\u001b[0msize\u001b[0m\u001b[0;34m,\u001b[0m\u001b[0;34m)\u001b[0m\u001b[0;34m.\u001b[0m\u001b[0mastype\u001b[0m\u001b[0;34m(\u001b[0m\u001b[0;34m'float64'\u001b[0m\u001b[0;34m)\u001b[0m\u001b[0;34m==\u001b[0m\u001b[0mlabel_pre\u001b[0m\u001b[0;34m)\u001b[0m\u001b[0;34m.\u001b[0m\u001b[0msum\u001b[0m\u001b[0;34m(\u001b[0m\u001b[0;34m)\u001b[0m\u001b[0;34m/\u001b[0m\u001b[0mfloat\u001b[0m\u001b[0;34m(\u001b[0m\u001b[0mlabel_pre\u001b[0m\u001b[0;34m.\u001b[0m\u001b[0msize\u001b[0m\u001b[0;34m)\u001b[0m\u001b[0;34m)\u001b[0m\u001b[0;34m\u001b[0m\u001b[0m\n\u001b[1;32m     26\u001b[0m         \u001b[0;32mprint\u001b[0m \u001b[0;34m'finish round '\u001b[0m \u001b[0;34m+\u001b[0m \u001b[0mstr\u001b[0m\u001b[0;34m(\u001b[0m\u001b[0mi\u001b[0m\u001b[0;34m)\u001b[0m \u001b[0;34m+\u001b[0m\u001b[0;34m', accuracy: '\u001b[0m \u001b[0;34m+\u001b[0m \u001b[0mstr\u001b[0m\u001b[0;34m(\u001b[0m\u001b[0maccuracy\u001b[0m\u001b[0;34m[\u001b[0m\u001b[0mlen\u001b[0m\u001b[0;34m(\u001b[0m\u001b[0maccuracy\u001b[0m\u001b[0;34m)\u001b[0m\u001b[0;34m-\u001b[0m\u001b[0;36m1\u001b[0m\u001b[0;34m]\u001b[0m\u001b[0;34m)\u001b[0m\u001b[0;34m\u001b[0m\u001b[0m\n",
      "\u001b[0;32m<ipython-input-1-b54f9c04e415>\u001b[0m in \u001b[0;36mclassifier_gmnpsvm\u001b[0;34m(fm_train_real, fm_test_real, label_train_multiclass, width, C, epsilon)\u001b[0m\n\u001b[1;32m     92\u001b[0m     \u001b[0msvm\u001b[0m\u001b[0;34m.\u001b[0m\u001b[0mtrain\u001b[0m\u001b[0;34m(\u001b[0m\u001b[0mfeats_train\u001b[0m\u001b[0;34m)\u001b[0m\u001b[0;34m\u001b[0m\u001b[0m\n\u001b[1;32m     93\u001b[0m \u001b[0;34m\u001b[0m\u001b[0m\n\u001b[0;32m---> 94\u001b[0;31m     \u001b[0mout\u001b[0m\u001b[0;34m=\u001b[0m\u001b[0msvm\u001b[0m\u001b[0;34m.\u001b[0m\u001b[0mapply\u001b[0m\u001b[0;34m(\u001b[0m\u001b[0mfeats_test\u001b[0m\u001b[0;34m)\u001b[0m\u001b[0;34m.\u001b[0m\u001b[0mget_labels\u001b[0m\u001b[0;34m(\u001b[0m\u001b[0;34m)\u001b[0m\u001b[0;34m\u001b[0m\u001b[0m\n\u001b[0m\u001b[1;32m     95\u001b[0m     \u001b[0;32mreturn\u001b[0m \u001b[0mout\u001b[0m\u001b[0;34m\u001b[0m\u001b[0m\n\u001b[1;32m     96\u001b[0m \u001b[0;34m\u001b[0m\u001b[0m\n",
      "\u001b[0;31mKeyboardInterrupt\u001b[0m: "
     ]
    }
   ],
   "source": [
    "if __name__=='__main__':\n",
    "    times=30\n",
    "    C=1.2\n",
    "    test_size=0.2\n",
    "    width=8\n",
    "    epsilon=1e-5\n",
    "    num_threads=8\n",
    "    mkl_epsilon=0.001\n",
    "    mkl_norm=2\n",
    "    mode='gmnp'\n",
    "    data_path = '/home/bd-dev/lijian/201801_ICML/tmp/iris.scale'\n",
    "    data = load_svmlight_file(data_path)\n",
    "    X, y = data[0], data[1].reshape(len(data[1]),1)\n",
    "    y=y-y.min()\n",
    "\n",
    "    accuracy=[]\n",
    "    for i in range(times):        \n",
    "        X_train, X_test, y_train, y_test = train_test_split(X, y, test_size=0.2)\n",
    "        if mode=='mcmkl':\n",
    "            label_pre = mkl_multiclass(X_train.toarray().T, X_test.toarray().T, y_train.reshape(y_train.size,).astype('float64'), C, epsilon, num_threads, mkl_epsilon, mkl_norm)\n",
    "        elif mode=='1v1':\n",
    "            label_pre = classifier_multiclassmachine(X_train.todense().T, X_test.todense().T, y_train.reshape(y_train.size,).astype('float64'), width, C, epsilon)\n",
    "        elif mode=='gmnp':\n",
    "            label_pre = classifier_gmnpsvm(X_train.toarray().T, X_test.toarray().T, y_train.reshape(y_train.size,).astype('float64'), width, C, epsilon)\n",
    "        accuracy.append((y_test.reshape(y_test.size,).astype('float64')==label_pre).sum()/float(label_pre.size))\n",
    "        print 'finish round ' + str(i) +', accuracy: ' + str(accuracy[len(accuracy)-1])\n",
    "    print(\"\\n\".join(str(item) for item in accuracy))"
   ]
  },
  {
   "cell_type": "code",
   "execution_count": 13,
   "metadata": {
    "collapsed": false
   },
   "outputs": [
    {
     "data": {
      "text/plain": [
       "(9, 171)"
      ]
     },
     "execution_count": 13,
     "metadata": {},
     "output_type": "execute_result"
    }
   ],
   "source": [
    "X_train.todense().T.shape"
   ]
  },
  {
   "cell_type": "code",
   "execution_count": 12,
   "metadata": {
    "collapsed": false
   },
   "outputs": [
    {
     "data": {
      "text/plain": [
       "(171, 1)"
      ]
     },
     "execution_count": 12,
     "metadata": {},
     "output_type": "execute_result"
    }
   ],
   "source": [
    "y_train.shape"
   ]
  },
  {
   "cell_type": "code",
   "execution_count": null,
   "metadata": {
    "collapsed": true
   },
   "outputs": [],
   "source": []
  }
 ],
 "metadata": {
  "kernelspec": {
   "display_name": "Python 2",
   "language": "python",
   "name": "python2"
  },
  "language_info": {
   "codemirror_mode": {
    "name": "ipython",
    "version": 2
   },
   "file_extension": ".py",
   "mimetype": "text/x-python",
   "name": "python",
   "nbconvert_exporter": "python",
   "pygments_lexer": "ipython2",
   "version": "2.7.13"
  }
 },
 "nbformat": 4,
 "nbformat_minor": 2
}
